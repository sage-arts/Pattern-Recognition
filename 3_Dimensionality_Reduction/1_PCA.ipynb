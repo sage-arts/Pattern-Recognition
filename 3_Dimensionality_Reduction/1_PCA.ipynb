{
 "cells": [
  {
   "cell_type": "code",
   "execution_count": 18,
   "metadata": {},
   "outputs": [],
   "source": [
    "import numpy as np\n",
    "import pandas as pd"
   ]
  },
  {
   "cell_type": "code",
   "execution_count": 19,
   "metadata": {},
   "outputs": [],
   "source": [
    "data_frame=pd.read_csv('face.csv')\n",
    "data_frame=data_frame.iloc[:,2:130]\n",
    "tf1=data_frame.iloc[0:10,:]\n",
    "tf2=data_frame.iloc[400:410,:]\n",
    "cf1=data_frame.iloc[10:400,:]\n",
    "cf2=data_frame.iloc[410:800,:]\n",
    "frame=pd.concat([cf1,cf2])"
   ]
  },
  {
   "cell_type": "code",
   "execution_count": 20,
   "metadata": {},
   "outputs": [],
   "source": [
    "def mean(df):\n",
    "     mean=df.mean().values\n",
    "     return np.asarray(mean)"
   ]
  },
  {
   "cell_type": "code",
   "execution_count": 21,
   "metadata": {},
   "outputs": [],
   "source": [
    "def get_cov(df):\n",
    "     return np.asarray(df.cov().values)"
   ]
  },
  {
   "cell_type": "code",
   "execution_count": 22,
   "metadata": {},
   "outputs": [],
   "source": [
    "u=mean(frame)\n",
    "Σ=get_cov(frame)"
   ]
  },
  {
   "cell_type": "code",
   "execution_count": 23,
   "metadata": {},
   "outputs": [],
   "source": [
    "λ,e=np.linalg.eig(Σ)\n",
    "indices=np.argsort(-1*λ)\n",
    "req_e=np.empty((122,128))\n",
    "for j in range(122):\n",
    "     req_e[j]=e[indices[j]]"
   ]
  },
  {
   "cell_type": "code",
   "execution_count": 24,
   "metadata": {},
   "outputs": [],
   "source": [
    "def get_reduced_frame(df,n):\n",
    "     a=[]\n",
    "     reduced_df=pd.DataFrame()\n",
    "     for j in range(122):\n",
    "          for i in range(n):\n",
    "               X=np.asarray(df.iloc[i,:])\n",
    "               X_u=X-u\n",
    "               a.append(req_e[j]@X_u.T)\n",
    "          new_df=pd.DataFrame(a)\n",
    "          a.clear()\n",
    "          reduced_df=pd.concat([reduced_df,new_df],axis=1)\n",
    "     return reduced_df"
   ]
  },
  {
   "cell_type": "code",
   "execution_count": 25,
   "metadata": {},
   "outputs": [],
   "source": [
    "class_frame1=get_reduced_frame(cf1,390)\n",
    "class_frame2=get_reduced_frame(cf2,390)\n",
    "test_frame1=get_reduced_frame(tf1,10)\n",
    "test_frame2=get_reduced_frame(tf2,10)\n",
    "test_frame=pd.concat([test_frame1,test_frame2])"
   ]
  },
  {
   "cell_type": "code",
   "execution_count": 26,
   "metadata": {},
   "outputs": [],
   "source": [
    "u1=mean(class_frame1)\n",
    "u2=mean(class_frame2)"
   ]
  },
  {
   "cell_type": "code",
   "execution_count": 27,
   "metadata": {},
   "outputs": [
    {
     "name": "stdout",
     "output_type": "stream",
     "text": [
      "Σ1 = Σ2\n"
     ]
    }
   ],
   "source": [
    "Σ1=get_cov(class_frame1)\n",
    "Σ2=get_cov(class_frame2)\n",
    "if Σ1.all()==Σ2.all():\n",
    "     print(\"Σ1 = Σ2\")"
   ]
  },
  {
   "cell_type": "code",
   "execution_count": 28,
   "metadata": {},
   "outputs": [],
   "source": [
    "def get_g(X,u,Σ):\n",
    "    Σinv=np.linalg.inv(Σ)\n",
    "    X_minus_uT=X-u\n",
    "    X_minus_u=np.transpose(X_minus_uT)\n",
    "    return (-1/2)*np.dot(X_minus_uT,np.dot(Σinv,X_minus_u)) #Σ1=Σ2, Pw1=Pw2"
   ]
  },
  {
   "cell_type": "code",
   "execution_count": 29,
   "metadata": {},
   "outputs": [],
   "source": [
    "def classify(g1,g2):\n",
    "     if g1>g2:\n",
    "          return 'male',0\n",
    "     elif g2>g1:\n",
    "          return 'female',1\n",
    "     else:\n",
    "          return 'none',-1"
   ]
  },
  {
   "cell_type": "code",
   "execution_count": 30,
   "metadata": {},
   "outputs": [
    {
     "name": "stdout",
     "output_type": "stream",
     "text": [
      "Test vector 1 is classified into the class male\n",
      "Test vector 2 is classified into the class male\n",
      "Test vector 3 is classified into the class male\n",
      "Test vector 4 is classified into the class male\n",
      "Test vector 5 is classified into the class male\n",
      "Test vector 6 is classified into the class male\n",
      "Test vector 7 is classified into the class male\n",
      "Test vector 8 is classified into the class female\n",
      "Test vector 9 is classified into the class male\n",
      "Test vector 10 is classified into the class male\n",
      "Test vector 11 is classified into the class male\n",
      "Test vector 12 is classified into the class female\n",
      "Test vector 13 is classified into the class female\n",
      "Test vector 14 is classified into the class female\n",
      "Test vector 15 is classified into the class female\n",
      "Test vector 16 is classified into the class female\n",
      "Test vector 17 is classified into the class female\n",
      "Test vector 18 is classified into the class female\n",
      "Test vector 19 is classified into the class female\n",
      "Test vector 20 is classified into the class female\n",
      "The accuracy of classification for class male is 90.0 %\n",
      "The accuracy of classification for class female is 90.0 %\n",
      "The accuracy of classification is 90.0 %\n",
      "[[9 1]\n",
      " [1 9]]\n"
     ]
    }
   ],
   "source": [
    "error1=0\n",
    "error2=0\n",
    "for i in range(20):\n",
    "     X=np.asarray(test_frame.iloc[i,:])\n",
    "     g1=get_g(X,u1,Σ1)\n",
    "     g2=get_g(X,u2,Σ2)\n",
    "     res,j=classify(g1,g2)\n",
    "     if i in range(0,9):\n",
    "          if(j!=0): \n",
    "               error1+=1\n",
    "     if i in range(10,19):\n",
    "          if(j!=1): \n",
    "               error2+=1\n",
    "     print(\"Test vector\",i+1,\"is classified into the class\",res)\n",
    "accuracy1=(1-error1/10)*100\n",
    "print(\"The accuracy of classification for class male is\",accuracy1,\"%\")\n",
    "accuracy2=(1-error2/10)*100\n",
    "print(\"The accuracy of classification for class female is\",accuracy2,\"%\")\n",
    "accuracy=(1-(error1+error2)/20)*100\n",
    "print(\"The accuracy of classification is\",accuracy,\"%\")\n",
    "confusion_mat=np.array([[10-error1,error1],[error2,10-error2]])\n",
    "print(confusion_mat)"
   ]
  }
 ],
 "metadata": {
  "interpreter": {
   "hash": "2be5faf79681da6f2a61fdfdd5405d65d042280f7fba6178067603e3a2925119"
  },
  "kernelspec": {
   "display_name": "Python 3.10.1 64-bit",
   "language": "python",
   "name": "python3"
  },
  "language_info": {
   "codemirror_mode": {
    "name": "ipython",
    "version": 3
   },
   "file_extension": ".py",
   "mimetype": "text/x-python",
   "name": "python",
   "nbconvert_exporter": "python",
   "pygments_lexer": "ipython3",
   "version": "3.10.1"
  },
  "orig_nbformat": 4
 },
 "nbformat": 4,
 "nbformat_minor": 2
}
