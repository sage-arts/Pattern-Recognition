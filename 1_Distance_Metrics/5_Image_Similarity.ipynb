{
 "cells": [
  {
   "cell_type": "code",
   "execution_count": 1,
   "metadata": {},
   "outputs": [],
   "source": [
    "import cv2 as cv\n",
    "import numpy as np"
   ]
  },
  {
   "cell_type": "code",
   "execution_count": 2,
   "metadata": {},
   "outputs": [],
   "source": [
    "def get_Normalized_Histogram(img):\n",
    "     rows, cols = img.shape\n",
    "     frequency = 0\n",
    "     P = []\n",
    "     for k in range(256):\n",
    "          for i in range(rows):\n",
    "               for j in range(cols):\n",
    "                    if(img[i,j]==k):\n",
    "                         frequency = frequency+1\n",
    "          P.append(frequency)\n",
    "          frequency = 0\n",
    "     total = rows*cols\n",
    "     for i in range(len(P)):\n",
    "          P[i] = P[i]/total\n",
    "     return P"
   ]
  },
  {
   "cell_type": "code",
   "execution_count": 3,
   "metadata": {},
   "outputs": [],
   "source": [
    "#Bhattacharya Distance is used to compare two normalized histograms\n",
    "def Btc_Dist(H1, H2):\n",
    "     H1 = np.array(H1)\n",
    "     H2 = np.array(H2)\n",
    "     Btc_coeff = np.sum(np.sqrt(H1*H2))\n",
    "     return -np.log(Btc_coeff)"
   ]
  },
  {
   "cell_type": "code",
   "execution_count": 4,
   "metadata": {},
   "outputs": [],
   "source": [
    "def check_similarity(Btc_Dist):\n",
    "     if Btc_Dist<=0.5:\n",
    "          return 'similar'\n",
    "     else:\n",
    "          return 'dissimilar'"
   ]
  },
  {
   "cell_type": "code",
   "execution_count": 6,
   "metadata": {},
   "outputs": [],
   "source": [
    "query_img = cv.imread(\"queryimage.png\", 0)\n",
    "ref_img1 = cv.imread(\"refimage1.png\", 0)\n",
    "ref_img2 = cv.imread(\"refimage2.png\", 0)\n",
    "Q = get_Normalized_Histogram(query_img)\n",
    "R1 = get_Normalized_Histogram(ref_img1)\n",
    "R2 = get_Normalized_Histogram(ref_img2)\n",
    "#Uncomment to see normalized histograms\n",
    "#print(\"Q = \", Q)\n",
    "#print(\"R1 = \", R1)\n",
    "#print(\"R2 = \", R2)"
   ]
  },
  {
   "cell_type": "code",
   "execution_count": 7,
   "metadata": {},
   "outputs": [
    {
     "name": "stdout",
     "output_type": "stream",
     "text": [
      "Bhattacharyya Distance D(Q, R1) =  0.038552934963962934\n",
      "Bhattacharyya Distance D(Q, R2) =  0.5429166188919508\n",
      "queryimage is similar to refimage1\n",
      "queryimage is dissimilar to refimage2\n"
     ]
    }
   ],
   "source": [
    "Btc_Dist_Q_R1 = Btc_Dist(Q, R1)\n",
    "Btc_Dist_Q_R2 = Btc_Dist(Q, R2)\n",
    "print(\"Bhattacharyya Distance D(Q, R1) = \", Btc_Dist_Q_R1)\n",
    "print(\"Bhattacharyya Distance D(Q, R2) = \", Btc_Dist_Q_R2)\n",
    "print(\"queryimage is\", check_similarity(Btc_Dist_Q_R1), \"to refimage1\")\n",
    "print(\"queryimage is\", check_similarity(Btc_Dist_Q_R2), \"to refimage2\")"
   ]
  }
 ],
 "metadata": {
  "kernelspec": {
   "display_name": "Python 3.10.1 64-bit",
   "language": "python",
   "name": "python3"
  },
  "language_info": {
   "codemirror_mode": {
    "name": "ipython",
    "version": 3
   },
   "file_extension": ".py",
   "mimetype": "text/x-python",
   "name": "python",
   "nbconvert_exporter": "python",
   "pygments_lexer": "ipython3",
   "version": "3.10.1"
  },
  "orig_nbformat": 4,
  "vscode": {
   "interpreter": {
    "hash": "369f2c481f4da34e4445cda3fffd2e751bd1c4d706f27375911949ba6bb62e1c"
   }
  }
 },
 "nbformat": 4,
 "nbformat_minor": 2
}
