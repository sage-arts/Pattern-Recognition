{
 "cells": [
  {
   "cell_type": "code",
   "execution_count": 2,
   "metadata": {},
   "outputs": [],
   "source": [
    "import string\n",
    "import math as mt"
   ]
  },
  {
   "cell_type": "code",
   "execution_count": 3,
   "metadata": {},
   "outputs": [],
   "source": [
    "def read_doc(docname):\n",
    "     with open(docname+'.txt', 'r') as file:\n",
    "          text = file.read().replace('\\n', '')\n",
    "     return text"
   ]
  },
  {
   "cell_type": "code",
   "execution_count": 4,
   "metadata": {},
   "outputs": [],
   "source": [
    "def text_lowercase(text):\n",
    "    return text.lower()"
   ]
  },
  {
   "cell_type": "code",
   "execution_count": 5,
   "metadata": {},
   "outputs": [],
   "source": [
    "def remove_punctuation(text):\n",
    "    translator = str.maketrans('', '', string.punctuation)\n",
    "    return text.translate(translator)"
   ]
  },
  {
   "cell_type": "code",
   "execution_count": 6,
   "metadata": {},
   "outputs": [],
   "source": [
    "from nltk.corpus import stopwords\n",
    "from nltk.tokenize import word_tokenize\n",
    "from nltk.stem import WordNetLemmatizer\n",
    "lemmatizer = WordNetLemmatizer()\n",
    "def remove_stopwords_and_tokenize(text):\n",
    "    stop_words = set(stopwords.words(\"english\"))\n",
    "    word_tokens = word_tokenize(text)\n",
    "    filtered_text = [lemmatizer.lemmatize(word, pos ='v') for word in word_tokens if word not in stop_words]\n",
    "    return filtered_text"
   ]
  },
  {
   "cell_type": "code",
   "execution_count": 7,
   "metadata": {},
   "outputs": [],
   "source": [
    "def get_frequency_map(token_list1, token_list2):\n",
    "     dict = {}\n",
    "     for token in token_list1:\n",
    "          if token in dict:\n",
    "               dict[token] += 1\n",
    "          else:\n",
    "               dict[token] = 1\n",
    "     for token in token_list2:\n",
    "          if token not in token_list1:\n",
    "               dict[token] = 0\n",
    "     return dict"
   ]
  },
  {
   "cell_type": "code",
   "execution_count": 8,
   "metadata": {},
   "outputs": [],
   "source": [
    "def dot_product(D1, D2):\n",
    "     res = 0.0\n",
    "     for key in D1:\n",
    "          res += D1[key]*D2[key]\n",
    "     return res"
   ]
  },
  {
   "cell_type": "code",
   "execution_count": 9,
   "metadata": {},
   "outputs": [],
   "source": [
    "def cosine_dist(D1, D2):\n",
    "     norm_D1 = mt.sqrt(dot_product(D1, D1))\n",
    "     norm_D2 = mt.sqrt(dot_product(D2, D2))\n",
    "     cos_D1_D2 = dot_product(D1, D2)/(norm_D1*norm_D2)\n",
    "     return 1-cos_D1_D2"
   ]
  },
  {
   "cell_type": "code",
   "execution_count": 10,
   "metadata": {},
   "outputs": [],
   "source": [
    "def check_similarity(cosine_dist):\n",
    "     if cosine_dist<=0.5:\n",
    "          return 'similar'\n",
    "     else:\n",
    "          return 'dissimilar'"
   ]
  },
  {
   "cell_type": "code",
   "execution_count": 12,
   "metadata": {},
   "outputs": [
    {
     "name": "stdout",
     "output_type": "stream",
     "text": [
      "Cosine Distance =  0.6495616779747688\n",
      "doc1 and doc2 are dissimilar\n"
     ]
    }
   ],
   "source": [
    "doc1 = remove_punctuation(text_lowercase(read_doc('doc1')))\n",
    "doc2 = remove_punctuation(text_lowercase(read_doc('doc2'))) \n",
    "doc1_tokens = []\n",
    "doc2_tokens = []\n",
    "doc1_tokens = remove_stopwords_and_tokenize(doc1)\n",
    "doc2_tokens = remove_stopwords_and_tokenize(doc2)\n",
    "D1 = get_frequency_map(doc1_tokens, doc2_tokens)\n",
    "D2 = get_frequency_map(doc2_tokens, doc1_tokens)\n",
    "#Uncomment to see maps\n",
    "#print(\"Map1: \", D1)\n",
    "#print(\"Map2: \", D2)\n",
    "cosine_dist = cosine_dist(D1, D2)\n",
    "print(\"Cosine Distance = \", cosine_dist)\n",
    "print(\"doc1 and doc2 are\", check_similarity(cosine_dist))"
   ]
  }
 ],
 "metadata": {
  "kernelspec": {
   "display_name": "Python 3.10.1 64-bit",
   "language": "python",
   "name": "python3"
  },
  "language_info": {
   "codemirror_mode": {
    "name": "ipython",
    "version": 3
   },
   "file_extension": ".py",
   "mimetype": "text/x-python",
   "name": "python",
   "nbconvert_exporter": "python",
   "pygments_lexer": "ipython3",
   "version": "3.10.1"
  },
  "orig_nbformat": 4,
  "vscode": {
   "interpreter": {
    "hash": "369f2c481f4da34e4445cda3fffd2e751bd1c4d706f27375911949ba6bb62e1c"
   }
  }
 },
 "nbformat": 4,
 "nbformat_minor": 2
}
