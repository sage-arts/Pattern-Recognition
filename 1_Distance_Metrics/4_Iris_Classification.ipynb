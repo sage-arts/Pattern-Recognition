{
 "cells": [
  {
   "cell_type": "code",
   "execution_count": 199,
   "metadata": {},
   "outputs": [],
   "source": [
    "import numpy as np\n",
    "import math as mt\n",
    "import pandas as pd\n",
    "import matplotlib.pyplot as plt"
   ]
  },
  {
   "cell_type": "code",
   "execution_count": 200,
   "metadata": {},
   "outputs": [],
   "source": [
    "data_frame = pd.read_csv('Iris.csv')\n",
    "data_frame.set_index('Id', inplace=True)\n",
    "test_frame = data_frame.loc[[1, 51, 101]]\n",
    "sample_frame = data_frame.drop([1, 51, 101])"
   ]
  },
  {
   "cell_type": "code",
   "execution_count": 201,
   "metadata": {},
   "outputs": [
    {
     "data": {
      "image/png": "[encoded data removed]",
      "text/plain": [
       "<Figure size 432x288 with 1 Axes>"
      ]
     },
     "metadata": {
      "needs_background": "light"
     },
     "output_type": "display_data"
    }
   ],
   "source": [
    "plt.scatter(x=sample_frame[sample_frame['Species']=='Iris-setosa']['PetalLengthCm'], y=sample_frame[sample_frame['Species']=='Iris-setosa']['PetalWidthCm'], color='blue')\n",
    "plt.scatter(x=sample_frame[sample_frame['Species']=='Iris-versicolor']['PetalLengthCm'], y=sample_frame[sample_frame['Species']=='Iris-versicolor']['PetalWidthCm'], color='purple')\n",
    "plt.scatter(x=sample_frame[sample_frame['Species']=='Iris-virginica']['PetalLengthCm'], y=sample_frame[sample_frame['Species']=='Iris-virginica']['PetalWidthCm'], color='yellow')\n",
    "plt.xlabel('PetalLengthCm')\n",
    "plt.ylabel('PetalWidthCm')\n",
    "plt.title('Sample Points Distribution')\n",
    "plt.show()"
   ]
  },
  {
   "cell_type": "code",
   "execution_count": 202,
   "metadata": {},
   "outputs": [],
   "source": [
    "def dist_from_mean(species, test_point):\n",
    "     mean = sample_frame[sample_frame['Species']==species][['PetalLengthCm', 'PetalWidthCm']].mean().values\n",
    "     return np.asmatrix(test_point-mean)"
   ]
  },
  {
   "cell_type": "code",
   "execution_count": 203,
   "metadata": {},
   "outputs": [],
   "source": [
    "def inv_cov(species):\n",
    "     cov = np.asmatrix(sample_frame[sample_frame['Species']==species][['PetalLengthCm', 'PetalWidthCm']].cov().values)\n",
    "     return np.linalg.inv(cov)"
   ]
  },
  {
   "cell_type": "code",
   "execution_count": 204,
   "metadata": {},
   "outputs": [],
   "source": [
    "#When the covariance is higher as in purple and yellow cluster, the Mahalanobis distance from the centroid \n",
    "#is useful to infer if a point is member of the distribution\n",
    "def Mahalanobis_Dist(dist_from_mean, inv_cov):\n",
    "     dist_from_meanT = np.transpose(dist_from_mean)\n",
    "     return mt.sqrt(dist_from_mean @ inv_cov @ dist_from_meanT)"
   ]
  },
  {
   "cell_type": "code",
   "execution_count": 205,
   "metadata": {},
   "outputs": [],
   "source": [
    "def classify(D):\n",
    "     i = min([i for i, x in enumerate(D) if x<2])\n",
    "     if i == 0:\n",
    "          return 'Iris-setosa'\n",
    "     elif i==1:\n",
    "          return 'Iris-versicolor'\n",
    "     else:\n",
    "          return 'Iris-virginica'"
   ]
  },
  {
   "cell_type": "code",
   "execution_count": 206,
   "metadata": {},
   "outputs": [],
   "source": [
    "dist_from_mean_setosa_of1 = dist_from_mean('Iris-setosa', test_frame.loc[1][['PetalLengthCm', 'PetalWidthCm']].values)\n",
    "dist_from_mean_versicolor_of1 = dist_from_mean('Iris-versicolor', test_frame.loc[1][['PetalLengthCm', 'PetalWidthCm']].values)\n",
    "dist_from_mean_virginica_of1 = dist_from_mean('Iris-virginica', test_frame.loc[1][['PetalLengthCm', 'PetalWidthCm']].values)"
   ]
  },
  {
   "cell_type": "code",
   "execution_count": 207,
   "metadata": {},
   "outputs": [],
   "source": [
    "dist_from_mean_setosa_of51 = dist_from_mean('Iris-setosa', test_frame.loc[51][['PetalLengthCm', 'PetalWidthCm']].values)\n",
    "dist_from_mean_versicolor_of51 = dist_from_mean('Iris-versicolor', test_frame.loc[51][['PetalLengthCm', 'PetalWidthCm']].values)\n",
    "dist_from_mean_virginica_of51 = dist_from_mean('Iris-virginica', test_frame.loc[51][['PetalLengthCm', 'PetalWidthCm']].values)"
   ]
  },
  {
   "cell_type": "code",
   "execution_count": 209,
   "metadata": {},
   "outputs": [],
   "source": [
    "dist_from_mean_setosa_of101 = dist_from_mean('Iris-setosa', test_frame.loc[101][['PetalLengthCm', 'PetalWidthCm']].values)\n",
    "dist_from_mean_versicolor_of101 = dist_from_mean('Iris-versicolor', test_frame.loc[101][['PetalLengthCm', 'PetalWidthCm']].values)\n",
    "dist_from_mean_virginica_of101 = dist_from_mean('Iris-virginica', test_frame.loc[101][['PetalLengthCm', 'PetalWidthCm']].values)"
   ]
  },
  {
   "cell_type": "code",
   "execution_count": 210,
   "metadata": {},
   "outputs": [],
   "source": [
    "inv_cov_setosa = inv_cov('Iris-setosa')\n",
    "inv_cov_versicolor = inv_cov('Iris-versicolor')\n",
    "inv_cov_virginica = inv_cov('Iris-virginica')"
   ]
  },
  {
   "cell_type": "code",
   "execution_count": 211,
   "metadata": {},
   "outputs": [
    {
     "name": "stdout",
     "output_type": "stream",
     "text": [
      "Mahalanobis Distance D(flower1, Iris-setosa) =  0.48939817358989846\n",
      "Mahalanobis Distance D(flower1, Iris-versicolor) =  6.22001471438942\n",
      "Mahalanobis Distance D(flower1, Iris-virginica) =  8.836776567169137\n",
      "flower 1 is classified into the class Iris-setosa\n"
     ]
    }
   ],
   "source": [
    "Mahalanobis_Dist_1_setosa = Mahalanobis_Dist(dist_from_mean_setosa_of1, inv_cov_setosa)\n",
    "Mahalanobis_Dist_1_versicolor = Mahalanobis_Dist(dist_from_mean_versicolor_of1, inv_cov_versicolor)\n",
    "Mahalanobis_Dist_1_virginica = Mahalanobis_Dist(dist_from_mean_virginica_of1, inv_cov_virginica)\n",
    "print(\"Mahalanobis Distance D(flower1, Iris-setosa) = \", Mahalanobis_Dist_1_setosa)\n",
    "print(\"Mahalanobis Distance D(flower1, Iris-versicolor) = \", Mahalanobis_Dist_1_versicolor)\n",
    "print(\"Mahalanobis Distance D(flower1, Iris-virginica) = \", Mahalanobis_Dist_1_virginica)\n",
    "print(\"flower 1 is classified into the class\", classify([Mahalanobis_Dist_1_setosa, Mahalanobis_Dist_1_versicolor, Mahalanobis_Dist_1_virginica]))"
   ]
  },
  {
   "cell_type": "code",
   "execution_count": 212,
   "metadata": {},
   "outputs": [
    {
     "name": "stdout",
     "output_type": "stream",
     "text": [
      "Mahalanobis Distance D(flower51, Iris-setosa) =  19.22674048470577\n",
      "Mahalanobis Distance D(flower51, Iris-versicolor) =  1.130580072221175\n",
      "Mahalanobis Distance D(flower51, Iris-virginica) =  2.4508748470314594\n",
      "flower 51 is classified into the class Iris-versicolor\n"
     ]
    }
   ],
   "source": [
    "Mahalanobis_Dist_51_setosa = Mahalanobis_Dist(dist_from_mean_setosa_of51, inv_cov_setosa)\n",
    "Mahalanobis_Dist_51_versicolor = Mahalanobis_Dist(dist_from_mean_versicolor_of51, inv_cov_versicolor)\n",
    "Mahalanobis_Dist_51_virginica = Mahalanobis_Dist(dist_from_mean_virginica_of51, inv_cov_virginica)\n",
    "print(\"Mahalanobis Distance D(flower51, Iris-setosa) = \", Mahalanobis_Dist_51_setosa)\n",
    "print(\"Mahalanobis Distance D(flower51, Iris-versicolor) = \", Mahalanobis_Dist_51_versicolor)\n",
    "print(\"Mahalanobis Distance D(flower51, Iris-virginica) = \", Mahalanobis_Dist_51_virginica)\n",
    "print(\"flower 51 is classified into the class\", classify([Mahalanobis_Dist_51_setosa, Mahalanobis_Dist_51_versicolor, Mahalanobis_Dist_51_virginica]))"
   ]
  },
  {
   "cell_type": "code",
   "execution_count": 213,
   "metadata": {},
   "outputs": [
    {
     "name": "stdout",
     "output_type": "stream",
     "text": [
      "Mahalanobis Distance D(flower101, Iris-setosa) =  29.267329586827923\n",
      "Mahalanobis Distance D(flower101, Iris-versicolor) =  6.079684544928463\n",
      "Mahalanobis Distance D(flower101, Iris-virginica) =  1.8231083365225484\n",
      "flower 101 is classified into the class Iris-virginica\n"
     ]
    }
   ],
   "source": [
    "Mahalanobis_Dist_101_setosa = Mahalanobis_Dist(dist_from_mean_setosa_of101, inv_cov_setosa)\n",
    "Mahalanobis_Dist_101_versicolor = Mahalanobis_Dist(dist_from_mean_versicolor_of101, inv_cov_versicolor)\n",
    "Mahalanobis_Dist_101_virginica = Mahalanobis_Dist(dist_from_mean_virginica_of101, inv_cov_virginica)\n",
    "print(\"Mahalanobis Distance D(flower101, Iris-setosa) = \", Mahalanobis_Dist_101_setosa)\n",
    "print(\"Mahalanobis Distance D(flower101, Iris-versicolor) = \", Mahalanobis_Dist_101_versicolor)\n",
    "print(\"Mahalanobis Distance D(flower101, Iris-virginica) = \", Mahalanobis_Dist_101_virginica)\n",
    "print(\"flower 101 is classified into the class\", classify([Mahalanobis_Dist_101_setosa, Mahalanobis_Dist_101_versicolor, Mahalanobis_Dist_101_virginica]))"
   ]
  },
  {
   "cell_type": "code",
   "execution_count": 216,
   "metadata": {},
   "outputs": [
    {
     "name": "stdout",
     "output_type": "stream",
     "text": [
      "             Species\n",
      "Id                  \n",
      "1        Iris-setosa\n",
      "51   Iris-versicolor\n",
      "101   Iris-virginica\n"
     ]
    },
    {
     "data": {
      "image/png": "[encoded data removed]",
      "text/plain": [
       "<Figure size 432x288 with 1 Axes>"
      ]
     },
     "metadata": {
      "needs_background": "light"
     },
     "output_type": "display_data"
    }
   ],
   "source": [
    "\n",
    "print(test_frame[['Species']])\n",
    "plt.scatter(x=sample_frame[sample_frame['Species']=='Iris-setosa']['PetalLengthCm'], y=sample_frame[sample_frame['Species']=='Iris-setosa']['PetalWidthCm'], color='blue')\n",
    "plt.scatter(x=sample_frame[sample_frame['Species']=='Iris-versicolor']['PetalLengthCm'], y=sample_frame[sample_frame['Species']=='Iris-versicolor']['PetalWidthCm'], color='purple')\n",
    "plt.scatter(x=sample_frame[sample_frame['Species']=='Iris-virginica']['PetalLengthCm'], y=sample_frame[sample_frame['Species']=='Iris-virginica']['PetalWidthCm'], color='yellow')\n",
    "plt.scatter(x=test_frame['PetalLengthCm'], y=test_frame['PetalWidthCm'], color='red')\n",
    "plt.xlabel('PetalLengthCm')\n",
    "plt.ylabel('PetalWidthCm')\n",
    "plt.title('Test Points on Sample Points Distribution')\n",
    "plt.show()"
   ]
  }
 ],
 "metadata": {
  "kernelspec": {
   "display_name": "Python 3.10.1 64-bit",
   "language": "python",
   "name": "python3"
  },
  "language_info": {
   "codemirror_mode": {
    "name": "ipython",
    "version": 3
   },
   "file_extension": ".py",
   "mimetype": "text/x-python",
   "name": "python",
   "nbconvert_exporter": "python",
   "pygments_lexer": "ipython3",
   "version": "3.10.1"
  },
  "orig_nbformat": 4,
  "vscode": {
   "interpreter": {
    "hash": "369f2c481f4da34e4445cda3fffd2e751bd1c4d706f27375911949ba6bb62e1c"
   }
  }
 },
 "nbformat": 4,
 "nbformat_minor": 2
}
