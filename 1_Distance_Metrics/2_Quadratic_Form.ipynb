{
 "cells": [
  {
   "cell_type": "code",
   "execution_count": 2,
   "metadata": {},
   "outputs": [],
   "source": [
    "import numpy as np\n",
    "import math as mt"
   ]
  },
  {
   "cell_type": "code",
   "execution_count": 3,
   "metadata": {},
   "outputs": [],
   "source": [
    "def Quadratic_form_Dist(hq_minus_ht_T, A):\n",
    "     hq_minus_ht = np.transpose(hq_minus_ht_T)\n",
    "     return mt.sqrt(hq_minus_ht_T @ A @ hq_minus_ht)"
   ]
  },
  {
   "cell_type": "code",
   "execution_count": 7,
   "metadata": {},
   "outputs": [
    {
     "name": "stdout",
     "output_type": "stream",
     "text": [
      "Quadratic form Distance =  0.8078520904224981\n"
     ]
    }
   ],
   "source": [
    "hq_minus_ht_T = np.matrix([0.5, 0.5, -0.5, -0.25, -0.25])\n",
    "A = np.matrix([[1, 0.135, 0.195, 0.137, 0.157],\n",
    "               [0.135, 1, 0.2, 0.309, 0.143],\n",
    "               [0.195, 0.2, 1, 0.157, 0.122],\n",
    "               [0.137, 0.309, 0.157, 1, 0.195],\n",
    "               [0.157, 0.143, 0.122, 0.195, 1]])\n",
    "print(\"Quadratic form Distance = \", Quadratic_form_Dist(hq_minus_ht_T, A))"
   ]
  }
 ],
 "metadata": {
  "kernelspec": {
   "display_name": "Python 3.10.1 64-bit",
   "language": "python",
   "name": "python3"
  },
  "language_info": {
   "codemirror_mode": {
    "name": "ipython",
    "version": 3
   },
   "file_extension": ".py",
   "mimetype": "text/x-python",
   "name": "python",
   "nbconvert_exporter": "python",
   "pygments_lexer": "ipython3",
   "version": "3.10.1"
  },
  "orig_nbformat": 4,
  "vscode": {
   "interpreter": {
    "hash": "369f2c481f4da34e4445cda3fffd2e751bd1c4d706f27375911949ba6bb62e1c"
   }
  }
 },
 "nbformat": 4,
 "nbformat_minor": 2
}
