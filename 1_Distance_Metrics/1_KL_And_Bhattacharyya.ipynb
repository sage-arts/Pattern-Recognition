{
 "cells": [
  {
   "cell_type": "code",
   "execution_count": 22,
   "metadata": {},
   "outputs": [],
   "source": [
    "import numpy as np"
   ]
  },
  {
   "cell_type": "code",
   "execution_count": 23,
   "metadata": {},
   "outputs": [],
   "source": [
    "def KL_Dist(H1, H2):\n",
    "     H1 = np.array(H1)\n",
    "     H2 = np.array(H2)\n",
    "     return np.sum(np.where(H1!=0, H1*np.log2(H1/H2), 0))"
   ]
  },
  {
   "cell_type": "code",
   "execution_count": 24,
   "metadata": {},
   "outputs": [],
   "source": [
    "def Bhattacharyya_Dist(H1, H2):\n",
    "     H1 = np.array(H1)\n",
    "     H2 = np.array(H2)\n",
    "     Bhattacharyya_coeff = np.sum(np.sqrt(H1*H2))\n",
    "     return -np.log(Bhattacharyya_coeff)"
   ]
  },
  {
   "cell_type": "code",
   "execution_count": 25,
   "metadata": {},
   "outputs": [
    {
     "name": "stdout",
     "output_type": "stream",
     "text": [
      "KL Distance D(H1, H2) =  0.09075297258487514\n",
      "KL Distance D(H2, H1) =  0.08115679003357536\n",
      "Bhattacharyya Distance =  0.014830056106628986\n"
     ]
    }
   ],
   "source": [
    "H1 = [0.24, 0.2, 0.16, 0.12, 0.08, 0.04, 0.12, 0.04]\n",
    "H2 = [0.22, 0.23, 0.16, 0.13, 0.11, 0.08, 0.05, 0.02]\n",
    "print(\"KL Distance D(H1, H2) = \", KL_Dist(H1, H2))\n",
    "print(\"KL Distance D(H2, H1) = \", KL_Dist(H2, H1))\n",
    "print(\"Bhattacharyya Distance = \", Bhattacharyya_Dist(H1, H2))"
   ]
  }
 ],
 "metadata": {
  "interpreter": {
   "hash": "a12d694c3ccac42055183a0ad11e659c6a2db5c6555ad2c8919d5814fd4e404f"
  },
  "kernelspec": {
   "display_name": "Python 3.9.6 64-bit",
   "language": "python",
   "name": "python3"
  },
  "language_info": {
   "codemirror_mode": {
    "name": "ipython",
    "version": 3
   },
   "file_extension": ".py",
   "mimetype": "text/x-python",
   "name": "python",
   "nbconvert_exporter": "python",
   "pygments_lexer": "ipython3",
   "version": "3.9.6"
  },
  "orig_nbformat": 4
 },
 "nbformat": 4,
 "nbformat_minor": 2
}
