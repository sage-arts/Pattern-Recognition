{
 "cells": [
  {
   "cell_type": "code",
   "execution_count": 1,
   "metadata": {},
   "outputs": [],
   "source": [
    "import numpy as np\n",
    "import pandas as pd\n",
    "from matplotlib import pyplot as plt\n",
    "from sympy import *\n",
    "from cvxopt import matrix,solvers "
   ]
  },
  {
   "cell_type": "code",
   "execution_count": 2,
   "metadata": {},
   "outputs": [
    {
     "name": "stdout",
     "output_type": "stream",
     "text": [
      "      x1   x2   x3  ω\n",
      "0    1.4  3.5  1.0  0\n",
      "1    1.4  3.0  1.0  0\n",
      "2    1.3  3.2  1.0  0\n",
      "3    1.5  3.1  1.0  0\n",
      "4    1.4  3.6  1.0  0\n",
      "..   ...  ...  ... ..\n",
      "145 -5.2 -3.0 -1.0  1\n",
      "146 -5.0 -2.5 -1.0  1\n",
      "147 -5.2 -3.0 -1.0  1\n",
      "148 -5.4 -3.4 -1.0  1\n",
      "149 -5.1 -3.0 -1.0  1\n",
      "\n",
      "[150 rows x 4 columns]\n"
     ]
    }
   ],
   "source": [
    "df=pd.read_csv('Iris.csv')\n",
    "X=df[['PetalLengthCm','SepalWidthCm','Species']]\n",
    "X.columns=['x1','x2','ω']\n",
    "X.loc[X['ω']=='Iris-setosa',['ω']]=0\n",
    "X.loc[X['ω']!=0,['ω']]=1\n",
    "Y=X.copy()\n",
    "Y.insert(2,'x3',np.ones(150))\n",
    "Y.loc[Y['ω']==1,['x1','x2','x3']]=-1*Y.loc[Y['ω']==1]\n",
    "print(Y)"
   ]
  },
  {
   "cell_type": "code",
   "execution_count": 3,
   "metadata": {},
   "outputs": [],
   "source": [
    "x1=Symbol('x1')\n",
    "x2=Symbol('x2')\n",
    "y=np.asarray([x1,x2,1])\n",
    "x1w0=X.loc[X['ω']==0,['x1']]\n",
    "x2w0=X.loc[X['ω']==0,['x2']]\n",
    "x1w1=X.loc[X['ω']==1,['x1']]\n",
    "x2w1=X.loc[X['ω']==1,['x2']]"
   ]
  },
  {
   "cell_type": "markdown",
   "metadata": {},
   "source": [
    "perceptron"
   ]
  },
  {
   "cell_type": "code",
   "execution_count": 4,
   "metadata": {},
   "outputs": [
    {
     "name": "stdout",
     "output_type": "stream",
     "text": [
      "a = [-0.052  0.041  0.01 ]\n"
     ]
    }
   ],
   "source": [
    "a=np.array([0,0,0])\n",
    "eta=0.01\n",
    "n=150   \n",
    "i=0\n",
    "loop=0\n",
    "itr=0\n",
    "while(loop<n-1):\n",
    "     yi=np.asarray(Y[['x1','x2','x3']].iloc[i])\n",
    "     if(a@yi.T<=0):\n",
    "          a=a+eta*yi\n",
    "          loop=-1\n",
    "          itr=itr+1\n",
    "     else:\n",
    "          loop=loop+1\n",
    "     i=(i+1)%n\n",
    "print(\"a =\",a)"
   ]
  },
  {
   "cell_type": "code",
   "execution_count": 5,
   "metadata": {},
   "outputs": [
    {
     "name": "stdout",
     "output_type": "stream",
     "text": [
      "Decision Boundary: -0.052*x1 + 0.041*x2 + 0.01 = 0\n"
     ]
    },
    {
     "data": {
      "image/png": "[encoded data removed]",
      "text/plain": [
       "<Figure size 432x288 with 1 Axes>"
      ]
     },
     "metadata": {
      "needs_background": "light"
     },
     "output_type": "display_data"
    }
   ],
   "source": [
    "print(\"Decision Boundary:\",a@y.T,\"= 0\")\n",
    "g=solve(a@y.T,x2,dict=True)\n",
    "xx=np.linspace(-2,6,100)\n",
    "yy=np.asarray([lambdify(x1,g[0][x2])(val) for val in xx])\n",
    "plt.plot(xx,yy.T)\n",
    "plt.scatter(x1w0,x2w0,label=\"ω=0(Iris-setosa)\",color=\"green\",marker=\".\",s=20)\n",
    "plt.scatter(x1w1,x2w1,label=\"ω=1(Others)\",color=\"red\",marker=\".\",s=20) \n",
    "plt.xlabel('x1(PetalLengthCm)')\n",
    "plt.ylabel('x2(SepalWidthCm)')\n",
    "plt.legend()\n",
    "plt.show()"
   ]
  },
  {
   "cell_type": "markdown",
   "metadata": {},
   "source": [
    "SVM"
   ]
  },
  {
   "cell_type": "code",
   "execution_count": 6,
   "metadata": {},
   "outputs": [
    {
     "name": "stdout",
     "output_type": "stream",
     "text": [
      "     pcost       dcost       gap    pres   dres\n",
      " 0: -1.3086e+01 -2.2972e+01  5e+02  2e+01  2e+00\n",
      " 1: -8.5634e+00 -4.0618e+00  6e+01  3e+00  2e-01\n",
      " 2: -3.0617e+00 -2.0867e+00  1e+01  6e-01  4e-02\n",
      " 3: -7.2238e-01 -1.3270e+00  2e+00  6e-02  4e-03\n",
      " 4: -7.3081e-01 -1.0644e+00  8e-01  3e-02  2e-03\n",
      " 5: -7.2200e-01 -1.1225e+00  7e-01  1e-02  9e-04\n",
      " 6: -9.7195e-01 -1.0328e+00  9e-02  1e-03  9e-05\n",
      " 7: -1.0246e+00 -1.0254e+00  1e-03  1e-05  8e-07\n",
      " 8: -1.0253e+00 -1.0253e+00  1e-05  1e-07  8e-09\n",
      " 9: -1.0253e+00 -1.0253e+00  1e-07  1e-09  8e-11\n",
      "Optimal solution found.\n",
      "alpha = [[7.68563195e-10]\n",
      " [1.70445962e-09]\n",
      " [8.74263667e-10]\n",
      " [2.04922572e-09]\n",
      " [7.07488506e-10]\n",
      " [9.67240452e-10]\n",
      " [8.54844525e-10]\n",
      " [1.09908648e-09]\n",
      " [2.15868813e-09]\n",
      " [2.04922572e-09]\n",
      " [7.79503378e-10]\n",
      " [1.52551350e-09]\n",
      " [1.70445962e-09]\n",
      " [7.19378489e-10]\n",
      " [5.31104249e-10]\n",
      " [6.73976663e-10]\n",
      " [5.66816543e-10]\n",
      " [7.68563195e-10]\n",
      " [1.07372059e-09]\n",
      " [7.30307724e-10]\n",
      " [2.45485914e-09]\n",
      " [7.79503378e-10]\n",
      " [4.50211883e-10]\n",
      " [3.57312317e-09]\n",
      " [8.09795865e-01]\n",
      " [2.89941913e-09]\n",
      " [1.52551350e-09]\n",
      " [9.53727781e-10]\n",
      " [8.54844525e-10]\n",
      " [2.57874074e-09]\n",
      " [3.50062758e-09]\n",
      " [1.09908648e-09]\n",
      " [6.68418107e-10]\n",
      " [6.17639056e-10]\n",
      " [2.04922572e-09]\n",
      " [7.03102733e-10]\n",
      " [6.45681598e-10]\n",
      " [2.04922572e-09]\n",
      " [1.19980446e-09]\n",
      " [1.09908648e-09]\n",
      " [6.45681598e-10]\n",
      " [2.15510163e-01]\n",
      " [8.74263667e-10]\n",
      " [1.25699741e-09]\n",
      " [2.24754676e-09]\n",
      " [1.70445962e-09]\n",
      " [8.64647275e-10]\n",
      " [1.14199445e-09]\n",
      " [7.79503378e-10]\n",
      " [9.75020353e-10]\n",
      " [2.72007614e-10]\n",
      " [3.48139912e-10]\n",
      " [2.01061841e-10]\n",
      " [3.49660482e-10]\n",
      " [2.32891977e-10]\n",
      " [2.61059714e-10]\n",
      " [2.92836229e-10]\n",
      " [1.55586999e-09]\n",
      " [2.47881184e-10]\n",
      " [5.62996677e-10]\n",
      " [5.91944387e-10]\n",
      " [4.46590623e-10]\n",
      " [3.30292195e-10]\n",
      " [2.21355441e-10]\n",
      " [1.09422025e-09]\n",
      " [3.68045975e-10]\n",
      " [3.01238842e-10]\n",
      " [4.13326576e-10]\n",
      " [2.27184937e-10]\n",
      " [4.75677906e-10]\n",
      " [2.41178771e-10]\n",
      " [5.18242153e-10]\n",
      " [1.81317042e-10]\n",
      " [2.10040583e-10]\n",
      " [3.63674762e-10]\n",
      " [3.42750096e-10]\n",
      " [1.91721495e-10]\n",
      " [1.73224512e-10]\n",
      " [2.79920424e-10]\n",
      " [1.09882492e-09]\n",
      " [5.12806660e-10]\n",
      " [6.12832218e-10]\n",
      " [5.62996677e-10]\n",
      " [1.60554308e-10]\n",
      " [3.01238842e-10]\n",
      " [4.10060262e-10]\n",
      " [2.52921276e-10]\n",
      " [2.36958789e-10]\n",
      " [5.10905907e-10]\n",
      " [4.06820068e-10]\n",
      " [2.59339116e-10]\n",
      " [2.65794895e-10]\n",
      " [4.42703296e-10]\n",
      " [1.36954022e-09]\n",
      " [3.57916554e-10]\n",
      " [4.46590623e-10]\n",
      " [4.17131257e-10]\n",
      " [3.63674762e-10]\n",
      " [1.02530606e+00]\n",
      " [4.46939988e-10]\n",
      " [1.05677390e-10]\n",
      " [1.60554308e-10]\n",
      " [1.26057391e-10]\n",
      " [1.34264418e-10]\n",
      " [1.25818400e-10]\n",
      " [1.37105914e-10]\n",
      " [2.26262898e-10]\n",
      " [1.41251427e-10]\n",
      " [1.75372110e-10]\n",
      " [9.37409321e-11]\n",
      " [1.73181124e-10]\n",
      " [1.53343906e-10]\n",
      " [1.30665977e-10]\n",
      " [1.76651191e-10]\n",
      " [1.57542807e-10]\n",
      " [1.44787584e-10]\n",
      " [1.30665977e-10]\n",
      " [7.77483754e-11]\n",
      " [1.68563380e-10]\n",
      " [2.06653778e-10]\n",
      " [1.16563603e-10]\n",
      " [1.77250317e-10]\n",
      " [1.55777633e-10]\n",
      " [1.75609979e-10]\n",
      " [1.14512159e-10]\n",
      " [1.11461607e-10]\n",
      " [1.91721495e-10]\n",
      " [1.90085579e-10]\n",
      " [1.42205705e-10]\n",
      " [1.25818400e-10]\n",
      " [1.47733080e-10]\n",
      " [8.12840325e-11]\n",
      " [1.42205705e-10]\n",
      " [1.57542807e-10]\n",
      " [1.61791726e-10]\n",
      " [1.28196084e-10]\n",
      " [1.22221037e-10]\n",
      " [1.27598432e-10]\n",
      " [2.10780044e-10]\n",
      " [1.33570623e-10]\n",
      " [1.23356675e-10]\n",
      " [1.65062278e-10]\n",
      " [1.60554308e-10]\n",
      " [1.12108272e-10]\n",
      " [1.14512159e-10]\n",
      " [1.49082992e-10]\n",
      " [1.76651191e-10]\n",
      " [1.49082992e-10]\n",
      " [1.44055322e-10]\n",
      " [1.59707205e-10]]\n",
      "W = [-1.25714286  0.68571429]\n",
      "b = 1.0571428524669508\n"
     ]
    }
   ],
   "source": [
    "n=150\n",
    "X=X[['x1','x2']].to_numpy()\n",
    "Y=Y[['x3']].to_numpy()\n",
    "H=np.dot(Y*X,(Y*X).T)\n",
    "H=H.astype('float')\n",
    "q=np.repeat([-1.0],n)[..., None]\n",
    "A=Y.reshape(1,-1)\n",
    "A=A.astype('float')\n",
    "b=0.0\n",
    "G=np.negative(np.eye(n))\n",
    "h=np.zeros(n)\n",
    "P=matrix(H)\n",
    "q=matrix(q)\n",
    "G=matrix(G)\n",
    "h=matrix(h)\n",
    "A=matrix(A)\n",
    "b=matrix(b)\n",
    "sol=solvers.qp(P,q,G,h,A,b)\n",
    "alpha=np.array(sol['x'])\n",
    "print(\"alpha =\",alpha)\n",
    "W=np.dot((Y*alpha).T,X)[0]\n",
    "print(\"W =\",W)\n",
    "S=(alpha>1e-5).flatten()\n",
    "b=np.mean(Y[S]-np.dot(X[S],W.reshape(-1,1)))\n",
    "print(\"b =\",b)"
   ]
  },
  {
   "cell_type": "code",
   "execution_count": 7,
   "metadata": {},
   "outputs": [
    {
     "name": "stdout",
     "output_type": "stream",
     "text": [
      "Decision Boundary: -1.25714286119572*x1 + 0.685714290489347*x2 + 1.05714285246695 = 0\n"
     ]
    },
    {
     "data": {
      "image/png": "[encoded data removed]",
      "text/plain": [
       "<Figure size 432x288 with 1 Axes>"
      ]
     },
     "metadata": {
      "needs_background": "light"
     },
     "output_type": "display_data"
    }
   ],
   "source": [
    "a=np.append(W,b)\n",
    "print(\"Decision Boundary:\",a@y.T,\"= 0\")\n",
    "xx=np.linspace(-2,6,100)\n",
    "m=-W[0]/W[1]\n",
    "yy=m*xx-(b)/W[1]\n",
    "margin=1/np.sqrt(np.sum(W**2))\n",
    "yy_neg=yy-np.sqrt(1+m**2)*margin\n",
    "yy_pos=yy+np.sqrt(1+m**2)*margin\n",
    "plt.plot(xx,yy)\n",
    "plt.plot(xx,yy_neg,\"y--\")\n",
    "plt.plot(xx,yy_pos,\"y--\")\n",
    "plt.scatter(x1w0,x2w0,label=\"ω=0(Iris-setosa)\",color=\"green\",marker=\".\",s=20)\n",
    "plt.scatter(x1w1,x2w1,label=\"ω=1(Others)\",color=\"red\",marker=\".\",s=20) \n",
    "plt.xlabel('x1(PetalLengthCm)')\n",
    "plt.ylabel('x2(SepalWidthCm)')\n",
    "plt.legend()\n",
    "plt.show()"
   ]
  }
 ],
 "metadata": {
  "interpreter": {
   "hash": "369f2c481f4da34e4445cda3fffd2e751bd1c4d706f27375911949ba6bb62e1c"
  },
  "kernelspec": {
   "display_name": "Python 3.10.1 64-bit",
   "language": "python",
   "name": "python3"
  },
  "language_info": {
   "codemirror_mode": {
    "name": "ipython",
    "version": 3
   },
   "file_extension": ".py",
   "mimetype": "text/x-python",
   "name": "python",
   "nbconvert_exporter": "python",
   "pygments_lexer": "ipython3",
   "version": "3.10.1"
  },
  "orig_nbformat": 4
 },
 "nbformat": 4,
 "nbformat_minor": 2
}
