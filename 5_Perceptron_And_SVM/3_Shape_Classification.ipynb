{
 "cells": [
  {
   "cell_type": "code",
   "execution_count": 1,
   "metadata": {},
   "outputs": [],
   "source": [
    "import cv2 as cv\n",
    "import numpy as np\n",
    "import pandas as pd\n",
    "from matplotlib import pyplot as plt\n",
    "from sympy import *\n",
    "from cvxopt import matrix,solvers "
   ]
  },
  {
   "cell_type": "code",
   "execution_count": 2,
   "metadata": {},
   "outputs": [
    {
     "name": "stdout",
     "output_type": "stream",
     "text": [
      "        x1     x2   x3  ω\n",
      "0   450.05  10.02  1.0  0\n",
      "1   333.75   9.45  1.0  0\n",
      "2    407.5  10.77  1.0  0\n",
      "3    407.5  10.76  1.0  0\n",
      "4   435.55  10.59  1.0  0\n",
      "5   435.53  10.62  1.0  0\n",
      "6   447.62   9.97  1.0  0\n",
      "7  -891.06 -11.71 -1.0  1\n",
      "8  -891.06 -11.71 -1.0  1\n",
      "9  -866.84 -11.55 -1.0  1\n",
      "10 -929.54 -11.96 -1.0  1\n",
      "11 -873.64 -11.59 -1.0  1\n",
      "12 -932.82 -11.98 -1.0  1\n",
      "13 -932.82 -11.98 -1.0  1\n"
     ]
    }
   ],
   "source": [
    "X=pd.DataFrame(columns=['x1','x2','ω'])\n",
    "for i in range(1,15):\n",
    "    loc=\"poly/poly\"+str(i)+\".png\"\n",
    "    img=cv.imread(loc,0)\n",
    "    #area, perimeter are rotation, translation invariant\n",
    "    #resize to fixed size for scale invariance\n",
    "    img=cv.resize(img,(322,322),interpolation=cv.INTER_AREA)\n",
    "    width, height = img.shape\n",
    "    for y in range(height):\n",
    "        for x in range(width):\n",
    "            if img[x, y] == 255:\n",
    "                img[x, y] = 0\n",
    "    contours,_=cv.findContours(img,cv.RETR_TREE,cv.CHAIN_APPROX_SIMPLE)\n",
    "    j=0\n",
    "    for contour in contours:\n",
    "        if j==0:\n",
    "            j=1\n",
    "            continue\n",
    "        area=cv.contourArea(contour)*1000/(322*322)\n",
    "        perimeter=cv.arcLength(contour,True)*1000/(322*322)\n",
    "        list=[round(area,2),round(perimeter,2)]\n",
    "        if i in range(1,8):\n",
    "            list.append(0)\n",
    "        else:\n",
    "            list.append(1)\n",
    "        new_row=pd.DataFrame({'x1':list[0],'x2':list[1],'ω':list[2]},index=[0])\n",
    "        X=pd.concat([new_row,X.loc[:]]).reset_index(drop=True)\n",
    "        list.clear()\n",
    "X=X.iloc[::-1].reset_index(drop=True)\n",
    "Y=X.copy()\n",
    "Y.insert(2,'x3',np.ones(14))\n",
    "Y.loc[Y['ω']==1,['x1','x2','x3']]=-1*Y.loc[Y['ω']==1]\n",
    "print(Y)"
   ]
  },
  {
   "cell_type": "code",
   "execution_count": 3,
   "metadata": {},
   "outputs": [],
   "source": [
    "x1=Symbol('x1')\n",
    "x2=Symbol('x2')\n",
    "y=np.asarray([x1,x2,1])\n",
    "x1w0=X.loc[X['ω']==0,['x1']]\n",
    "x2w0=X.loc[X['ω']==0,['x2']]\n",
    "x1w1=X.loc[X['ω']==1,['x1']]\n",
    "x2w1=X.loc[X['ω']==1,['x2']]"
   ]
  },
  {
   "cell_type": "markdown",
   "metadata": {},
   "source": [
    "perceptron"
   ]
  },
  {
   "cell_type": "code",
   "execution_count": 4,
   "metadata": {},
   "outputs": [
    {
     "name": "stdout",
     "output_type": "stream",
     "text": [
      "a = [-0.1381999999999839 6.540100000000006 0.7800000000000005]\n"
     ]
    }
   ],
   "source": [
    "a=np.array([0,0,0])\n",
    "eta=0.01\n",
    "n=14  \n",
    "i=0\n",
    "loop=0\n",
    "itr=0\n",
    "while(loop<n-1):\n",
    "     yi=np.asarray(Y[['x1','x2','x3']].iloc[i])\n",
    "     if(a@yi.T<=0):\n",
    "          a=a+eta*yi\n",
    "          loop=-1\n",
    "          itr=itr+1\n",
    "     else:\n",
    "          loop=loop+1\n",
    "     i=(i+1)%n\n",
    "print(\"a =\",a)"
   ]
  },
  {
   "cell_type": "code",
   "execution_count": 5,
   "metadata": {},
   "outputs": [
    {
     "name": "stdout",
     "output_type": "stream",
     "text": [
      "Decision Boundary: -0.138199999999984*x1 + 6.54010000000001*x2 + 0.78 = 0\n"
     ]
    },
    {
     "data": {
      "image/png": "[encoded data removed]",
      "text/plain": [
       "<Figure size 432x288 with 1 Axes>"
      ]
     },
     "metadata": {
      "needs_background": "light"
     },
     "output_type": "display_data"
    }
   ],
   "source": [
    "print(\"Decision Boundary:\",a@y.T,\"= 0\")\n",
    "g=solve(a@y.T,x2,dict=True)\n",
    "xx=np.linspace(200,950,100)\n",
    "yy=np.asarray([lambdify(x1,g[0][x2])(val) for val in xx])\n",
    "plt.plot(xx,yy.T)\n",
    "plt.scatter(x1w0,x2w0,label=\"ω=0(triangle)\",color=\"green\",marker=\".\",s=20)\n",
    "plt.scatter(x1w1,x2w1,label=\"ω=1(rectangle)\",color=\"red\",marker=\".\",s=20) \n",
    "plt.xlabel('x1(area)')\n",
    "plt.ylabel('x2(perimeter)')\n",
    "plt.legend()\n",
    "plt.show()"
   ]
  },
  {
   "cell_type": "markdown",
   "metadata": {},
   "source": [
    "SVM"
   ]
  },
  {
   "cell_type": "code",
   "execution_count": 6,
   "metadata": {},
   "outputs": [
    {
     "name": "stdout",
     "output_type": "stream",
     "text": [
      "     pcost       dcost       gap    pres   dres\n",
      " 0: -2.3139e-01 -2.7846e-01  2e+01  5e+00  1e+00\n",
      " 1:  7.3595e-03  1.6255e-05  8e-01  2e-01  4e-02\n",
      " 2:  7.1221e-05 -4.1237e-05  8e-03  2e-03  4e-04\n",
      " 3:  3.7786e-06 -4.0740e-05  9e-05  1e-05  2e-06\n",
      " 4: -6.6751e-06 -1.9504e-05  1e-05  3e-21  2e-15\n",
      " 5: -9.2864e-06 -1.1974e-05  3e-06  3e-21  8e-16\n",
      " 6: -1.0469e-05 -1.2515e-05  2e-06  4e-21  8e-16\n",
      " 7: -1.1372e-05 -1.1546e-05  2e-07  3e-21  1e-15\n",
      " 8: -1.1511e-05 -1.1513e-05  3e-09  5e-21  1e-15\n",
      "Optimal solution found.\n",
      "alpha = [[1.14855703e-05]\n",
      " [5.21568943e-10]\n",
      " [9.93283193e-10]\n",
      " [9.89024012e-10]\n",
      " [6.54191106e-10]\n",
      " [5.53419937e-10]\n",
      " [2.28392159e-08]\n",
      " [1.42459485e-09]\n",
      " [1.42459485e-09]\n",
      " [1.14967110e-05]\n",
      " [5.14909061e-10]\n",
      " [1.10380342e-08]\n",
      " [5.03915524e-10]\n",
      " [5.03915524e-10]]\n",
      "W = [-0.0047985977802438 -1.7614344456711226e-05]\n",
      "b = 3.1598026861175947\n"
     ]
    }
   ],
   "source": [
    "n=14\n",
    "X=X[['x1','x2']].to_numpy()\n",
    "Y=Y[['x3']].to_numpy()\n",
    "H=np.dot(Y*X,(Y*X).T)\n",
    "H=H.astype('float')\n",
    "q=np.repeat([-1.0],n)[..., None]\n",
    "A=Y.reshape(1,-1)\n",
    "A=A.astype('float')\n",
    "b=0.0\n",
    "G=np.negative(np.eye(n))\n",
    "h=np.zeros(n)\n",
    "P=matrix(H)\n",
    "q=matrix(q)\n",
    "G=matrix(G)\n",
    "h=matrix(h)\n",
    "A=matrix(A)\n",
    "b=matrix(b)\n",
    "sol=solvers.qp(P,q,G,h,A,b)\n",
    "alpha=np.array(sol['x'])\n",
    "print(\"alpha =\",alpha)\n",
    "W=np.dot((Y*alpha).T,X)[0]\n",
    "print(\"W =\",W)\n",
    "S=(alpha>1e-5).flatten()\n",
    "b=np.mean(Y[S]-np.dot(X[S],W.reshape(-1,1)))\n",
    "print(\"b =\",b)"
   ]
  },
  {
   "cell_type": "code",
   "execution_count": 7,
   "metadata": {},
   "outputs": [
    {
     "name": "stdout",
     "output_type": "stream",
     "text": [
      "Decision Boundary: -0.0047985977802438*x1 - 1.76143444567112e-5*x2 + 3.15980268611759 = 0\n"
     ]
    },
    {
     "data": {
      "image/png": "[encoded data removed]",
      "text/plain": [
       "<Figure size 432x288 with 1 Axes>"
      ]
     },
     "metadata": {
      "needs_background": "light"
     },
     "output_type": "display_data"
    }
   ],
   "source": [
    "a=np.append(W,b)\n",
    "print(\"Decision Boundary:\",a@y.T,\"= 0\")\n",
    "xx=np.linspace(200,950,100)\n",
    "m=-W[0]/W[1]\n",
    "yy=m*xx-(b)/W[1]\n",
    "margin=1/np.sqrt(np.sum(W**2))\n",
    "yy_neg=yy-np.sqrt(1+m**2)*margin\n",
    "yy_pos=yy+np.sqrt(1+m**2)*margin\n",
    "plt.plot(xx,yy)\n",
    "plt.plot(xx,yy_neg,\"y--\")\n",
    "plt.plot(xx,yy_pos,\"y--\")\n",
    "plt.scatter(x1w0,x2w0,label=\"ω=0(triangle)\",color=\"green\",marker=\".\",s=20)\n",
    "plt.scatter(x1w1,x2w1,label=\"ω=1(rectangle)\",color=\"red\",marker=\".\",s=20) \n",
    "plt.xlabel('x1(area)')\n",
    "plt.ylabel('x2(perimeter)')\n",
    "plt.legend()\n",
    "plt.show()"
   ]
  }
 ],
 "metadata": {
  "interpreter": {
   "hash": "369f2c481f4da34e4445cda3fffd2e751bd1c4d706f27375911949ba6bb62e1c"
  },
  "kernelspec": {
   "display_name": "Python 3.10.1 64-bit",
   "language": "python",
   "name": "python3"
  },
  "language_info": {
   "codemirror_mode": {
    "name": "ipython",
    "version": 3
   },
   "file_extension": ".py",
   "mimetype": "text/x-python",
   "name": "python",
   "nbconvert_exporter": "python",
   "pygments_lexer": "ipython3",
   "version": "3.10.1"
  },
  "orig_nbformat": 4
 },
 "nbformat": 4,
 "nbformat_minor": 2
}
