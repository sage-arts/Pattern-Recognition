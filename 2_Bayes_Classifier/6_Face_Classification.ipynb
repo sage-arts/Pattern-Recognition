{
 "cells": [
  {
   "cell_type": "code",
   "execution_count": 20,
   "metadata": {},
   "outputs": [],
   "source": [
    "import numpy as np\n",
    "import pandas as pd"
   ]
  },
  {
   "cell_type": "code",
   "execution_count": 21,
   "metadata": {},
   "outputs": [],
   "source": [
    "data_frame=pd.read_csv('face.csv')\n",
    "data_frame=data_frame.iloc[:,2:130]\n",
    "tf1=data_frame.iloc[0:5,:]\n",
    "tf2=data_frame.iloc[400:405,:]\n",
    "tf=[tf1,tf2] \n",
    "test_frame=pd.concat(tf)\n",
    "class_frame1=data_frame.iloc[5:400,:]\n",
    "class_frame2=data_frame.iloc[405:800,:]"
   ]
  },
  {
   "cell_type": "code",
   "execution_count": 22,
   "metadata": {},
   "outputs": [],
   "source": [
    "def mean(class_frame):\n",
    "     mean = class_frame.mean().values\n",
    "     return np.asarray(mean)"
   ]
  },
  {
   "cell_type": "code",
   "execution_count": 23,
   "metadata": {},
   "outputs": [],
   "source": [
    "u1=mean(class_frame1)\n",
    "u2=mean(class_frame2)"
   ]
  },
  {
   "cell_type": "code",
   "execution_count": 24,
   "metadata": {},
   "outputs": [],
   "source": [
    "def get_cov(class_frame):\n",
    "     return np.asarray(class_frame.cov().values)"
   ]
  },
  {
   "cell_type": "code",
   "execution_count": 25,
   "metadata": {},
   "outputs": [
    {
     "name": "stdout",
     "output_type": "stream",
     "text": [
      "Σ1 = Σ2\n"
     ]
    }
   ],
   "source": [
    "Σ1=get_cov(class_frame1)\n",
    "Σ2=get_cov(class_frame2)\n",
    "if Σ1.all()==Σ2.all():\n",
    "     print(\"Σ1 = Σ2\")"
   ]
  },
  {
   "cell_type": "code",
   "execution_count": 26,
   "metadata": {},
   "outputs": [],
   "source": [
    "def get_g(X,u,Σ):\n",
    "    Σinv=np.linalg.inv(Σ)\n",
    "    X_minus_uT=X-u\n",
    "    X_minus_u=np.transpose(X_minus_uT)\n",
    "    return (-1/2)*np.dot(X_minus_uT,np.dot(Σinv,X_minus_u)) #Σ1=Σ2, Pw1=Pw2"
   ]
  },
  {
   "cell_type": "code",
   "execution_count": 27,
   "metadata": {},
   "outputs": [],
   "source": [
    "def classify(g1,g2):\n",
    "     if g1>g2:\n",
    "          return 'male',0\n",
    "     elif g2>g1:\n",
    "          return 'female',1\n",
    "     else:\n",
    "          return 'none',-1"
   ]
  },
  {
   "cell_type": "code",
   "execution_count": 28,
   "metadata": {},
   "outputs": [
    {
     "name": "stdout",
     "output_type": "stream",
     "text": [
      "Test vector 1 is classified into the class male\n",
      "Test vector 2 is classified into the class male\n",
      "Test vector 3 is classified into the class male\n",
      "Test vector 4 is classified into the class male\n",
      "Test vector 5 is classified into the class male\n",
      "Test vector 6 is classified into the class male\n",
      "Test vector 7 is classified into the class female\n",
      "Test vector 8 is classified into the class female\n",
      "Test vector 9 is classified into the class female\n",
      "Test vector 10 is classified into the class female\n",
      "The accuracy of classification is 90.0 %\n"
     ]
    }
   ],
   "source": [
    "error=0\n",
    "for i in range (10):\n",
    "     X=np.asarray(test_frame.iloc[i,:])\n",
    "     g1=get_g(X,u1,Σ1)\n",
    "     g2=get_g(X,u2,Σ2)\n",
    "     res,j=classify(g1,g2)\n",
    "     if i in range(0,4):\n",
    "          if(j!=0): \n",
    "               error+=1\n",
    "               print(j)\n",
    "     if i in range(5,9):\n",
    "          if(j!=1): \n",
    "               error+=1\n",
    "     print(\"Test vector\",i+1,\"is classified into the class\",res)\n",
    "accuracy=(1-error/10)*100\n",
    "print(\"The accuracy of classification is\",accuracy,\"%\")"
   ]
  }
 ],
 "metadata": {
  "interpreter": {
   "hash": "2be5faf79681da6f2a61fdfdd5405d65d042280f7fba6178067603e3a2925119"
  },
  "kernelspec": {
   "display_name": "Python 3.10.1 64-bit",
   "language": "python",
   "name": "python3"
  },
  "language_info": {
   "codemirror_mode": {
    "name": "ipython",
    "version": 3
   },
   "file_extension": ".py",
   "mimetype": "text/x-python",
   "name": "python",
   "nbconvert_exporter": "python",
   "pygments_lexer": "ipython3",
   "version": "3.10.1"
  },
  "orig_nbformat": 4
 },
 "nbformat": 4,
 "nbformat_minor": 2
}
