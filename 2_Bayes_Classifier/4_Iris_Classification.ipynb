{
 "cells": [
  {
   "cell_type": "code",
   "execution_count": 2,
   "metadata": {},
   "outputs": [],
   "source": [
    "from matplotlib import pyplot as plt\n",
    "import numpy as np\n",
    "import math as mt\n",
    "import pandas as pd\n",
    "from sympy import *"
   ]
  },
  {
   "cell_type": "code",
   "execution_count": 3,
   "metadata": {},
   "outputs": [],
   "source": [
    "Pw1=40/120\n",
    "Pw2=40/120\n",
    "Pw3=40/120"
   ]
  },
  {
   "cell_type": "code",
   "execution_count": 4,
   "metadata": {},
   "outputs": [],
   "source": [
    "data_frame=pd.read_csv('Iris.csv')\n",
    "data_frame=data_frame.iloc[:,1:5]\n",
    "tf1=data_frame.iloc[40:50,:]\n",
    "tf2=data_frame.iloc[90:100,:]\n",
    "tf3=data_frame.iloc[140:150,:]\n",
    "tf=[tf1,tf2,tf3] \n",
    "test_frame=pd.concat(tf)\n",
    "class_frame1=data_frame.iloc[0:40,:]\n",
    "class_frame2=data_frame.iloc[50:90,:]\n",
    "class_frame3=data_frame.iloc[100:140,:]"
   ]
  },
  {
   "cell_type": "code",
   "execution_count": 5,
   "metadata": {},
   "outputs": [],
   "source": [
    "def mean(class_frame):\n",
    "     mean = class_frame.mean().values\n",
    "     return np.asarray(mean)"
   ]
  },
  {
   "cell_type": "code",
   "execution_count": 6,
   "metadata": {},
   "outputs": [
    {
     "name": "stdout",
     "output_type": "stream",
     "text": [
      "u1 =  [5.0375 3.44   1.4625 0.2325]\n",
      "u2 =  [6.01   2.78   4.3175 1.35  ]\n",
      "u3 =  [6.6225 2.96   5.6075 1.99  ]\n"
     ]
    }
   ],
   "source": [
    "u1=mean(class_frame1)\n",
    "u2=mean(class_frame2)\n",
    "u3=mean(class_frame3)\n",
    "print(\"u1 = \",u1)\n",
    "print(\"u2 = \",u2)\n",
    "print(\"u3 = \",u3)"
   ]
  },
  {
   "cell_type": "code",
   "execution_count": 7,
   "metadata": {},
   "outputs": [],
   "source": [
    "def get_cov(class_frame):\n",
    "     return np.asarray(class_frame.cov().values)"
   ]
  },
  {
   "cell_type": "code",
   "execution_count": 8,
   "metadata": {},
   "outputs": [
    {
     "name": "stdout",
     "output_type": "stream",
     "text": [
      "Σ1 = \n",
      " [[0.13112179 0.09897436 0.01298077 0.01362179]\n",
      " [0.09897436 0.13271795 0.00205128 0.0145641 ]\n",
      " [0.01298077 0.00205128 0.02958333 0.00458333]\n",
      " [0.01362179 0.0145641  0.00458333 0.00994231]]\n",
      "Σ2 = \n",
      " [[0.27374359 0.08661538 0.17212821 0.05230769]\n",
      " [0.08661538 0.11087179 0.08087179 0.04538462]\n",
      " [0.17212821 0.08087179 0.20353205 0.07371795]\n",
      " [0.05230769 0.04538462 0.07371795 0.04307692]]\n",
      "Σ3 = \n",
      " [[0.46794231 0.11041026 0.35777564 0.05125641]\n",
      " [0.11041026 0.11323077 0.08107692 0.04625641]\n",
      " [0.35777564 0.08107692 0.34532692 0.05930769]\n",
      " [0.05125641 0.04625641 0.05930769 0.07425641]]\n"
     ]
    }
   ],
   "source": [
    "Σ1=get_cov(class_frame1)\n",
    "Σ2=get_cov(class_frame2)\n",
    "Σ3=get_cov(class_frame3)\n",
    "print(\"Σ1 = \\n\",Σ1)\n",
    "print(\"Σ2 = \\n\",Σ2)\n",
    "print(\"Σ3 = \\n\",Σ3)"
   ]
  },
  {
   "cell_type": "code",
   "execution_count": 9,
   "metadata": {},
   "outputs": [],
   "source": [
    "def class_cond_probab(X,u,Σ):\n",
    "     Σinv=np.linalg.inv(Σ)\n",
    "     X_minus_uT=X-u\n",
    "     X_minus_u=np.transpose(X_minus_uT)\n",
    "     d1=np.dot(Σinv,X_minus_u)\n",
    "     d2=np.dot(X_minus_uT,d1)\n",
    "     return 1/(2*(np.pi**2)*sqrt(abs(np.linalg.det(np.linalg.inv(Σinv)))))*mt.exp((-1/2)*np.dot(X_minus_uT,np.dot(Σinv,X_minus_u)))"
   ]
  },
  {
   "cell_type": "code",
   "execution_count": 10,
   "metadata": {},
   "outputs": [],
   "source": [
    "def classify(posterior_probab):\n",
    "     i=posterior_probab.index(max(posterior_probab))\n",
    "     if i==0:\n",
    "          return 'Iris-setosa',i\n",
    "     elif i==1:\n",
    "          return 'Iris-versicolor',i\n",
    "     else:\n",
    "          return 'Iris-virginica',i"
   ]
  },
  {
   "cell_type": "code",
   "execution_count": 15,
   "metadata": {},
   "outputs": [
    {
     "name": "stdout",
     "output_type": "stream",
     "text": [
      "Test flower 1 is classified into the class Iris-setosa\n",
      "Test flower 2 is classified into the class Iris-setosa\n",
      "Test flower 3 is classified into the class Iris-setosa\n",
      "Test flower 4 is classified into the class Iris-setosa\n",
      "Test flower 5 is classified into the class Iris-setosa\n",
      "Test flower 6 is classified into the class Iris-setosa\n",
      "Test flower 7 is classified into the class Iris-setosa\n",
      "Test flower 8 is classified into the class Iris-setosa\n",
      "Test flower 9 is classified into the class Iris-setosa\n",
      "Test flower 10 is classified into the class Iris-setosa\n",
      "Test flower 11 is classified into the class Iris-versicolor\n",
      "Test flower 12 is classified into the class Iris-versicolor\n",
      "Test flower 13 is classified into the class Iris-versicolor\n",
      "Test flower 14 is classified into the class Iris-versicolor\n",
      "Test flower 15 is classified into the class Iris-versicolor\n",
      "Test flower 16 is classified into the class Iris-versicolor\n",
      "Test flower 17 is classified into the class Iris-versicolor\n",
      "Test flower 18 is classified into the class Iris-versicolor\n",
      "Test flower 19 is classified into the class Iris-versicolor\n",
      "Test flower 20 is classified into the class Iris-versicolor\n",
      "Test flower 21 is classified into the class Iris-virginica\n",
      "Test flower 22 is classified into the class Iris-virginica\n",
      "Test flower 23 is classified into the class Iris-virginica\n",
      "Test flower 24 is classified into the class Iris-virginica\n",
      "Test flower 25 is classified into the class Iris-virginica\n",
      "Test flower 26 is classified into the class Iris-virginica\n",
      "Test flower 27 is classified into the class Iris-virginica\n",
      "Test flower 28 is classified into the class Iris-virginica\n",
      "Test flower 29 is classified into the class Iris-virginica\n",
      "Test flower 30 is classified into the class Iris-virginica\n",
      "The accuracy of classification is 100.0 %\n"
     ]
    }
   ],
   "source": [
    "error=0\n",
    "for i in range (30):\n",
    "     X=np.asarray(test_frame.iloc[i,:])\n",
    "     p1=class_cond_probab(X,u1,Σ1)*Pw1\n",
    "     p2=class_cond_probab(X,u2,Σ2)*Pw2\n",
    "     p3=class_cond_probab(X,u3,Σ3)*Pw3\n",
    "     p=p1+p2+p3\n",
    "     posterior_probab=[p1/p,p2/p,p3/p]\n",
    "     res,j=classify(posterior_probab)\n",
    "     if i in range(0,9):\n",
    "          if(j!=0): \n",
    "               error+=1\n",
    "     if i in range(10,19):\n",
    "          if(j!=1): \n",
    "               error+=1\n",
    "     if i in range(20,29):\n",
    "          if(j!=2): \n",
    "               error+=1\n",
    "     print(\"Test flower\",i+1,\"is classified into the class\",res)\n",
    "accuracy=(1-error/30)*100\n",
    "print(\"The accuracy of classification is\",accuracy,\"%\")"
   ]
  },
  {
   "cell_type": "code",
   "execution_count": 12,
   "metadata": {},
   "outputs": [],
   "source": [
    "def get_g(X,u,Σ):\n",
    "    Σinv=np.linalg.inv(Σ)\n",
    "    X_minus_uT=X-u\n",
    "    X_minus_u=np.transpose(X_minus_uT)\n",
    "    return (-1/2)*np.dot(X_minus_uT,np.dot(Σinv,X_minus_u))+(-1/2)*log(np.linalg.det(Σ))    #Pw1=Pw2=Pw3"
   ]
  },
  {
   "cell_type": "code",
   "execution_count": 13,
   "metadata": {},
   "outputs": [],
   "source": [
    "w=Symbol('w')\n",
    "x=Symbol('x')\n",
    "y=Symbol('y')\n",
    "z=Symbol('z')\n",
    "X=[w,x,y,z]"
   ]
  },
  {
   "cell_type": "code",
   "execution_count": 14,
   "metadata": {},
   "outputs": [
    {
     "name": "stdout",
     "output_type": "stream",
     "text": [
      "Discriminant Function 1: g1(w,x,y,z) = -0.5*(w - 5.0375)*(18.9662099704334*w - 13.7468041472616*x - 6.95996885837586*y - 2.63963857566334*z - 37.4606060352618) - 0.5*(x - 3.44)*(-13.7468041472616*w + 19.00598613724*x + 6.57939373351929*y - 12.0399150292358*z - 2.95414951124992) - 0.5*(y - 1.4625)*(-6.95996885837586*w + 6.57939373351929*x + 39.2173342232132*y - 18.1810720232783*z - 40.7005233752751) - 0.5*(z - 0.2325)*(-2.63963857566334*w - 12.0399150292358*x - 18.1810720232783*y + 130.214948688815*z + 51.02932928937) + 6.6750828692332 \n",
      "\n",
      "Discriminant Function 2: g2(w,x,y,z) = -0.5*(w - 6.01)*(9.13333334201785*w - 4.07640784883589*x - 9.58250751578472*y + 9.60294701345487*z - 15.150421834527) - 0.5*(x - 2.78)*(-4.07640784883589*w + 17.7117960842808*x + 3.6186862854763*y - 19.9034107906525*z - 13.4936554129601) - 0.5*(y - 4.3175)*(-9.58250751578472*w + 3.6186862854763*x + 23.0046312370379*y - 31.5446870235573*z - 9.20624558786681) - 0.5*(z - 1.35)*(9.60294701345487*w - 19.9034107906525*x - 31.5446870235573*y + 86.5059526099609*z + 17.0289206479116) + 5.34079749343153 \n",
      "\n",
      "Discriminant Function 3: g3(w,x,y,z) = -0.5*(w - 6.6225)*(12.0677437364511*w - 4.88916379648501*x - 12.1082128512238*y + 4.38637019494952*z - 6.27878118176397) - 0.5*(x - 2.96)*(-4.88916379648501*w + 14.8211423555543*x + 3.00369869101398*y - 8.25671873361938*z - 11.904464260177) - 0.5*(y - 5.6075)*(-12.1082128512238*w + 3.00369869101398*x + 15.7866851329686*y - 6.12187764556263*z - 5.04560888662398) - 0.5*(z - 1.99)*(4.38637019494952*w - 8.25671873361938*x - 6.12187764556263*y + 20.4719162879598*z - 11.0195336800875) + 4.42707955187034 \n",
      "\n"
     ]
    }
   ],
   "source": [
    "gx1=get_g(X,u1,Σ1)\n",
    "print(\"Discriminant Function 1: g1(w,x,y,z) =\",gx1,'\\n')\n",
    "gx2=get_g(X,u2,Σ2)\n",
    "print(\"Discriminant Function 2: g2(w,x,y,z) =\",gx2,'\\n')\n",
    "gx3=get_g(X,u3,Σ3)\n",
    "print(\"Discriminant Function 3: g3(w,x,y,z) =\",gx3,'\\n')"
   ]
  }
 ],
 "metadata": {
  "interpreter": {
   "hash": "2be5faf79681da6f2a61fdfdd5405d65d042280f7fba6178067603e3a2925119"
  },
  "kernelspec": {
   "display_name": "Python 3.10.1 64-bit",
   "language": "python",
   "name": "python3"
  },
  "language_info": {
   "codemirror_mode": {
    "name": "ipython",
    "version": 3
   },
   "file_extension": ".py",
   "mimetype": "text/x-python",
   "name": "python",
   "nbconvert_exporter": "python",
   "pygments_lexer": "ipython3",
   "version": "3.10.1"
  },
  "orig_nbformat": 4
 },
 "nbformat": 4,
 "nbformat_minor": 2
}
