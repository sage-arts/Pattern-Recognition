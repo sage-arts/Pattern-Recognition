{
 "cells": [
  {
   "cell_type": "code",
   "execution_count": 1,
   "metadata": {},
   "outputs": [],
   "source": [
    "from matplotlib import pyplot as plt\n",
    "import numpy as np\n",
    "from sympy import *"
   ]
  },
  {
   "cell_type": "code",
   "execution_count": 2,
   "metadata": {},
   "outputs": [],
   "source": [
    "w1=[[2,6],[3,4],[3,8],[4,6]]\n",
    "w2=[[3,0],[1,-2],[3,-4],[5,-2]]\n",
    "Pw1=0.3\n",
    "Pw2=0.7\n",
    "x=Symbol('x')\n",
    "y=Symbol('y')\n",
    "X=[x,y]"
   ]
  },
  {
   "cell_type": "code",
   "execution_count": 3,
   "metadata": {},
   "outputs": [
    {
     "name": "stdout",
     "output_type": "stream",
     "text": [
      "Σ1=\n",
      " [[0.66666667 0.        ]\n",
      " [0.         2.66666667]]\n"
     ]
    }
   ],
   "source": [
    "x1=[pt[0] for pt in w1]\n",
    "y1=[pt[1] for pt in w1]\n",
    "u1=np.array([np.mean(x1),np.mean(y1)])\n",
    "Σ1=np.cov(np.stack((x1,y1),axis=0))\n",
    "print(\"Σ1=\\n\",Σ1)"
   ]
  },
  {
   "cell_type": "code",
   "execution_count": 4,
   "metadata": {},
   "outputs": [
    {
     "name": "stdout",
     "output_type": "stream",
     "text": [
      "Σ2=\n",
      " [[2.66666667 0.        ]\n",
      " [0.         2.66666667]]\n"
     ]
    }
   ],
   "source": [
    "x2=[pt[0] for pt in w2]\n",
    "y2=[pt[1] for pt in w2]\n",
    "u2=np.array([np.mean(x2),np.mean(y2)])\n",
    "Σ2=np.cov(np.stack((x2,y2),axis=0))\n",
    "print(\"Σ2=\\n\",Σ2)"
   ]
  },
  {
   "cell_type": "code",
   "execution_count": 5,
   "metadata": {},
   "outputs": [],
   "source": [
    "def get_g(X,u,Σ,Pw):\n",
    "    Σinv=np.linalg.inv(Σ)\n",
    "    X_minus_uT=X-u\n",
    "    X_minus_u=np.transpose(X_minus_uT)\n",
    "    return (-1/2)*np.dot(X_minus_uT,np.dot(Σinv,X_minus_u))+(-1/2)*log(np.linalg.det(Σ))+log(Pw)"
   ]
  },
  {
   "cell_type": "code",
   "execution_count": 6,
   "metadata": {},
   "outputs": [
    {
     "name": "stdout",
     "output_type": "stream",
     "text": [
      "Discriminant Function 1: g1(x,y) = -0.5*(x - 3.0)*(1.5*x - 4.5) - 0.5*(0.375*y - 2.25)*(y - 6.0) - 1.49165487677772 \n",
      "\n",
      "Discriminant Function 2: g2(x,y) = -0.5*(0.375*x - 1.125)*(x - 3.0) - 0.5*(0.375*y + 0.75)*(y + 2.0) - 1.33750419695046 \n",
      "\n"
     ]
    }
   ],
   "source": [
    "gx1=get_g(X,u1,Σ1,Pw1)\n",
    "print(\"Discriminant Function 1: g1(x,y) =\",gx1,'\\n')\n",
    "gx2=get_g(X,u2,Σ2,Pw2)\n",
    "print(\"Discriminant Function 2: g2(x,y) =\",gx2,'\\n')"
   ]
  },
  {
   "cell_type": "code",
   "execution_count": 7,
   "metadata": {},
   "outputs": [
    {
     "name": "stdout",
     "output_type": "stream",
     "text": [
      "The Decision Boundary is : y = 0.1875*x**2 - 1.125*x + 3.73888355994242 \n",
      "\n"
     ]
    },
    {
     "data": {
      "image/png": "[encoded data removed]",
      "text/plain": [
       "<Figure size 432x288 with 1 Axes>"
      ]
     },
     "metadata": {
      "needs_background": "light"
     },
     "output_type": "display_data"
    }
   ],
   "source": [
    "gx=solve(gx1-gx2,y,dict=True)\n",
    "print(\"The Decision Boundary is : y =\",gx[0][y],'\\n')\n",
    "xx=np.linspace(-10, 10, 1000)\n",
    "yy=[lambdify(x,gx[0][y])(val) for val in xx]\n",
    "plt.plot(xx,np.transpose(yy))\n",
    "plt.scatter(x1,y1,label=\"Class1\",color=\"green\",marker=\".\",s=30)\n",
    "plt.scatter(x2,y2,label=\"Class2\",color=\"red\",marker=\".\",s=30) \n",
    "plt.legend()\n",
    "plt.show()"
   ]
  }
 ],
 "metadata": {
  "kernelspec": {
   "display_name": "Python 3.10.1 64-bit",
   "language": "python",
   "name": "python3"
  },
  "language_info": {
   "codemirror_mode": {
    "name": "ipython",
    "version": 3
   },
   "file_extension": ".py",
   "mimetype": "text/x-python",
   "name": "python",
   "nbconvert_exporter": "python",
   "pygments_lexer": "ipython3",
   "version": "3.10.1"
  },
  "orig_nbformat": 4,
  "vscode": {
   "interpreter": {
    "hash": "369f2c481f4da34e4445cda3fffd2e751bd1c4d706f27375911949ba6bb62e1c"
   }
  }
 },
 "nbformat": 4,
 "nbformat_minor": 2
}
