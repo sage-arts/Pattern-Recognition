{
 "cells": [
  {
   "cell_type": "code",
   "execution_count": 47,
   "metadata": {},
   "outputs": [],
   "source": [
    "from matplotlib import pyplot as plt\n",
    "import numpy as np\n",
    "import math as mt\n",
    "import pandas as pd\n",
    "from sympy import *"
   ]
  },
  {
   "cell_type": "code",
   "execution_count": 48,
   "metadata": {},
   "outputs": [],
   "source": [
    "Pw1=40/120\n",
    "Pw2=40/120\n",
    "Pw3=40/120"
   ]
  },
  {
   "cell_type": "code",
   "execution_count": 49,
   "metadata": {},
   "outputs": [],
   "source": [
    "data_frame=pd.read_csv('Iris.csv')\n",
    "data_frame=data_frame.iloc[:,3:5]\n",
    "tf1=data_frame.iloc[40:50,:]\n",
    "tf2=data_frame.iloc[90:100,:]\n",
    "tf3=data_frame.iloc[140:150,:]\n",
    "tf=[tf1,tf2,tf3] \n",
    "test_frame=pd.concat(tf)\n",
    "class_frame1=data_frame.iloc[0:40,:]\n",
    "class_frame2=data_frame.iloc[50:90,:]\n",
    "class_frame3=data_frame.iloc[100:140,:]"
   ]
  },
  {
   "cell_type": "code",
   "execution_count": 50,
   "metadata": {},
   "outputs": [],
   "source": [
    "def mean(class_frame):\n",
    "     mean = class_frame.mean().values\n",
    "     return np.asarray(mean)"
   ]
  },
  {
   "cell_type": "code",
   "execution_count": 51,
   "metadata": {},
   "outputs": [
    {
     "name": "stdout",
     "output_type": "stream",
     "text": [
      "u1 =  [1.4625 0.2325]\n",
      "u2 =  [4.3175 1.35  ]\n",
      "u3 =  [5.6075 1.99  ]\n"
     ]
    }
   ],
   "source": [
    "u1=mean(class_frame1)\n",
    "u2=mean(class_frame2)\n",
    "u3=mean(class_frame3)\n",
    "print(\"u1 = \",u1)\n",
    "print(\"u2 = \",u2)\n",
    "print(\"u3 = \",u3)"
   ]
  },
  {
   "cell_type": "code",
   "execution_count": 52,
   "metadata": {},
   "outputs": [],
   "source": [
    "def get_cov(class_frame):\n",
    "     return np.asarray(class_frame.cov().values)"
   ]
  },
  {
   "cell_type": "code",
   "execution_count": 53,
   "metadata": {},
   "outputs": [
    {
     "name": "stdout",
     "output_type": "stream",
     "text": [
      "Σ1 = \n",
      " [[0.02958333 0.00458333]\n",
      " [0.00458333 0.00994231]]\n",
      "Σ2 = \n",
      " [[0.20353205 0.07371795]\n",
      " [0.07371795 0.04307692]]\n",
      "Σ3 = \n",
      " [[0.34532692 0.05930769]\n",
      " [0.05930769 0.07425641]]\n"
     ]
    }
   ],
   "source": [
    "Σ1=get_cov(class_frame1)\n",
    "Σ2=get_cov(class_frame2)\n",
    "Σ3=get_cov(class_frame3)\n",
    "print(\"Σ1 = \\n\",Σ1)\n",
    "print(\"Σ2 = \\n\",Σ2)\n",
    "print(\"Σ3 = \\n\",Σ3)"
   ]
  },
  {
   "cell_type": "code",
   "execution_count": 54,
   "metadata": {},
   "outputs": [],
   "source": [
    "def class_cond_probab(X,u,Σ):\n",
    "     Σinv=np.linalg.inv(Σ)\n",
    "     X_minus_uT=X-u\n",
    "     X_minus_u=np.transpose(X_minus_uT)\n",
    "     d1=np.dot(Σinv,X_minus_u)\n",
    "     d2=np.dot(X_minus_uT,d1)\n",
    "     return 1/(2*(np.pi**2)*sqrt(abs(np.linalg.det(np.linalg.inv(Σinv)))))*mt.exp((-1/2)*np.dot(X_minus_uT,np.dot(Σinv,X_minus_u)))"
   ]
  },
  {
   "cell_type": "code",
   "execution_count": 55,
   "metadata": {},
   "outputs": [],
   "source": [
    "def classify(posterior_probab):\n",
    "     i=posterior_probab.index(max(posterior_probab))\n",
    "     if i==0:\n",
    "          return 'Iris-setosa',i\n",
    "     elif i==1:\n",
    "          return 'Iris-versicolor',i\n",
    "     else:\n",
    "          return 'Iris-virginica',i"
   ]
  },
  {
   "cell_type": "code",
   "execution_count": 56,
   "metadata": {},
   "outputs": [
    {
     "name": "stdout",
     "output_type": "stream",
     "text": [
      "Test flower 1 is classified into the class Iris-setosa\n",
      "Test flower 2 is classified into the class Iris-setosa\n",
      "Test flower 3 is classified into the class Iris-setosa\n",
      "Test flower 4 is classified into the class Iris-setosa\n",
      "Test flower 5 is classified into the class Iris-setosa\n",
      "Test flower 6 is classified into the class Iris-setosa\n",
      "Test flower 7 is classified into the class Iris-setosa\n",
      "Test flower 8 is classified into the class Iris-setosa\n",
      "Test flower 9 is classified into the class Iris-setosa\n",
      "Test flower 10 is classified into the class Iris-setosa\n",
      "Test flower 11 is classified into the class Iris-versicolor\n",
      "Test flower 12 is classified into the class Iris-versicolor\n",
      "Test flower 13 is classified into the class Iris-versicolor\n",
      "Test flower 14 is classified into the class Iris-versicolor\n",
      "Test flower 15 is classified into the class Iris-versicolor\n",
      "Test flower 16 is classified into the class Iris-versicolor\n",
      "Test flower 17 is classified into the class Iris-versicolor\n",
      "Test flower 18 is classified into the class Iris-versicolor\n",
      "Test flower 19 is classified into the class Iris-versicolor\n",
      "Test flower 20 is classified into the class Iris-versicolor\n",
      "Test flower 21 is classified into the class Iris-virginica\n",
      "Test flower 22 is classified into the class Iris-virginica\n",
      "Test flower 23 is classified into the class Iris-virginica\n",
      "Test flower 24 is classified into the class Iris-virginica\n",
      "Test flower 25 is classified into the class Iris-virginica\n",
      "Test flower 26 is classified into the class Iris-virginica\n",
      "Test flower 27 is classified into the class Iris-virginica\n",
      "Test flower 28 is classified into the class Iris-virginica\n",
      "Test flower 29 is classified into the class Iris-virginica\n",
      "Test flower 30 is classified into the class Iris-virginica\n",
      "The accuracy of classification is 100.0 %\n"
     ]
    }
   ],
   "source": [
    "error=0\n",
    "for i in range (30):\n",
    "     X=np.asarray(test_frame.iloc[i,:])\n",
    "     p1=class_cond_probab(X,u1,Σ1)*Pw1\n",
    "     p2=class_cond_probab(X,u2,Σ2)*Pw2\n",
    "     p3=class_cond_probab(X,u3,Σ3)*Pw3\n",
    "     p=p1+p2+p3\n",
    "     posterior_probab=[p1/p,p2/p,p3/p]\n",
    "     res,j=classify(posterior_probab)\n",
    "     if i in range(0,9):\n",
    "          if(j!=0): \n",
    "               error+=1\n",
    "     if i in range(10,19):\n",
    "          if(j!=1): \n",
    "               error+=1\n",
    "     if i in range(20,29):\n",
    "          if(j!=2): \n",
    "               error+=1\n",
    "     print(\"Test flower\",i+1,\"is classified into the class\",res)\n",
    "accuracy=(1-error/30)*100\n",
    "print(\"The accuracy of classification is\",accuracy,\"%\")"
   ]
  },
  {
   "cell_type": "code",
   "execution_count": 57,
   "metadata": {},
   "outputs": [],
   "source": [
    "def get_g(X,u,Σ):\n",
    "    Σinv=np.linalg.inv(Σ)\n",
    "    X_minus_uT=X-u\n",
    "    X_minus_u=np.transpose(X_minus_uT)\n",
    "    return (-1/2)*np.dot(X_minus_uT,np.dot(Σinv,X_minus_u))+(-1/2)*log(np.linalg.det(Σ))    #Pw1=Pw2=Pw3"
   ]
  },
  {
   "cell_type": "code",
   "execution_count": 58,
   "metadata": {},
   "outputs": [],
   "source": [
    "x=Symbol('x')\n",
    "y=Symbol('y')\n",
    "X=[x,y]"
   ]
  },
  {
   "cell_type": "code",
   "execution_count": 59,
   "metadata": {},
   "outputs": [
    {
     "name": "stdout",
     "output_type": "stream",
     "text": [
      "Discriminant Function 1: g1(w,x,y,z) = -0.5*(x - 1.4625)*(36.4027538726334*x - 16.7814113597246*y - 49.3373493975903) - 0.5*(y - 0.2325)*(-16.7814113597246*x + 108.316382412768*y - 0.640744797371315) + 4.10280027533882 \n",
      "\n",
      "Discriminant Function 2: g2(w,x,y,z) = -0.5*(x - 4.3175)*(12.9235994749295*x - 22.1162788633465*y - 25.9406642674901) - 0.5*(y - 1.35)*(-22.1162788633465*x + 61.0620843643579*y + 13.0532201006155) + 2.85191145469936 \n",
      "\n",
      "Discriminant Function 3: g3(w,x,y,z) = -0.5*(x - 5.6075)*(3.35617106951655*x - 2.68053303998335*y - 13.4854685227472) - 0.5*(y - 1.99)*(-2.68053303998335*x + 15.6077599866994*y - 16.0283533518252) + 1.9055159665711 \n",
      "\n"
     ]
    }
   ],
   "source": [
    "gx1=get_g(X,u1,Σ1)\n",
    "print(\"Discriminant Function 1: g1(w,x,y,z) =\",gx1,'\\n')\n",
    "gx2=get_g(X,u2,Σ2)\n",
    "print(\"Discriminant Function 2: g2(w,x,y,z) =\",gx2,'\\n')\n",
    "gx3=get_g(X,u3,Σ3)\n",
    "print(\"Discriminant Function 3: g3(w,x,y,z) =\",gx3,'\\n')"
   ]
  },
  {
   "cell_type": "code",
   "execution_count": 60,
   "metadata": {},
   "outputs": [
    {
     "name": "stdout",
     "output_type": "stream",
     "text": [
      "The Decision Boundary g1-2 is : y = -0.112896979194497*x - 0.9616716137733*sqrt(-0.523481791246906*x**2 + x + 0.653122003895383) + 0.289793002193321 \n",
      "\n",
      "The Decision Boundary g1-3 is: y = 0.152098887360624*x - 0.850259507069334*sqrt(-0.461064227294499*x**2 + x + 0.629037631834874) - 0.165978181443963 \n",
      "\n",
      "The Decision Boundary g2-3 is : y = 0.427588487772488*x - 0.860259796766389*sqrt(-0.0373659197881672*x**2 + 0.00120396753148487*x + 1) - 0.639797727732472 \n",
      "\n"
     ]
    },
    {
     "data": {
      "image/png": "[encoded data removed]",
      "text/plain": [
       "<Figure size 432x288 with 1 Axes>"
      ]
     },
     "metadata": {
      "needs_background": "light"
     },
     "output_type": "display_data"
    }
   ],
   "source": [
    "np.seterr(invalid='ignore')\n",
    "x1=class_frame1['PetalLengthCm']\n",
    "y1=class_frame1['PetalWidthCm']\n",
    "x2=class_frame2['PetalLengthCm']\n",
    "y2=class_frame2['PetalWidthCm']\n",
    "x3=class_frame3['PetalLengthCm']\n",
    "y3=class_frame3['PetalWidthCm']\n",
    "g12=solve(gx1-gx2,y,dict=True)\n",
    "print(\"The Decision Boundary g1-2 is : y =\",g12[0][y],'\\n')\n",
    "xx=np.linspace(-10, 10, 1000)\n",
    "yy=[lambdify(x,g12[0][y])(val) for val in xx]\n",
    "plt.plot(xx,np.transpose(yy))\n",
    "g13=solve(gx1-gx3,y,dict=True)\n",
    "print(\"The Decision Boundary g1-3 is: y =\",g13[0][y],'\\n')\n",
    "xx=np.linspace(-10, 10, 1000)\n",
    "yy=[lambdify(x,g13[0][y])(val) for val in xx]\n",
    "plt.plot(xx,np.transpose(yy))\n",
    "g23=solve(gx2-gx3,y,dict=True)\n",
    "print(\"The Decision Boundary g2-3 is : y =\",g23[0][y],'\\n')\n",
    "xx=np.linspace(-10, 10, 1000)\n",
    "yy=[lambdify(x,g23[0][y])(val) for val in xx]\n",
    "plt.plot(xx,np.transpose(yy))\n",
    "plt.scatter(x1,y1,label=\"Iris-setosa\",color=\"blue\",marker=\".\",s=30)\n",
    "plt.scatter(x2,y2,label=\"Iris-versicolor\",color=\"purple\",marker=\".\",s=30) \n",
    "plt.scatter(x3,y3,label=\"Iris-virginica\",color=\"red\",marker=\".\",s=30) \n",
    "plt.legend()\n",
    "plt.show()"
   ]
  }
 ],
 "metadata": {
  "interpreter": {
   "hash": "2be5faf79681da6f2a61fdfdd5405d65d042280f7fba6178067603e3a2925119"
  },
  "kernelspec": {
   "display_name": "Python 3.10.1 64-bit",
   "language": "python",
   "name": "python3"
  },
  "language_info": {
   "codemirror_mode": {
    "name": "ipython",
    "version": 3
   },
   "file_extension": ".py",
   "mimetype": "text/x-python",
   "name": "python",
   "nbconvert_exporter": "python",
   "pygments_lexer": "ipython3",
   "version": "3.10.1"
  },
  "orig_nbformat": 4
 },
 "nbformat": 4,
 "nbformat_minor": 2
}
