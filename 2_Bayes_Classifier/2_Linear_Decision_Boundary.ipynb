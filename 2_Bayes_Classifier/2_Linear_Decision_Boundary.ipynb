{
 "cells": [
  {
   "cell_type": "code",
   "execution_count": 1,
   "metadata": {},
   "outputs": [],
   "source": [
    "from matplotlib import pyplot as plt\n",
    "import numpy as np\n",
    "from sympy import *"
   ]
  },
  {
   "cell_type": "code",
   "execution_count": 2,
   "metadata": {},
   "outputs": [],
   "source": [
    "w1=[[1,-1],[2,-5],[3,-6],[4,-10],[5,-12],[6,-15]]\n",
    "w2=[[-1,1],[-2,5],[-3,6],[-4,10],[-5,12],[-6,15]]\n",
    "Pw1=0.3\n",
    "Pw2=0.7\n",
    "x=Symbol('x')\n",
    "y=Symbol('y')\n",
    "X=[x,y]"
   ]
  },
  {
   "cell_type": "code",
   "execution_count": 3,
   "metadata": {},
   "outputs": [
    {
     "name": "stdout",
     "output_type": "stream",
     "text": [
      "[ 3.5        -8.16666667]\n",
      "Σ1=\n",
      " [[ 3.5        -9.5       ]\n",
      " [-9.5        26.16666667]]\n"
     ]
    }
   ],
   "source": [
    "x1=[pt[0] for pt in w1]\n",
    "y1=[pt[1] for pt in w1]\n",
    "u1=np.array([np.mean(x1),np.mean(y1)])\n",
    "Σ1=np.cov(np.stack((x1,y1),axis=0))\n",
    "print(u1)\n",
    "print(\"Σ1=\\n\",Σ1)"
   ]
  },
  {
   "cell_type": "code",
   "execution_count": 4,
   "metadata": {},
   "outputs": [
    {
     "name": "stdout",
     "output_type": "stream",
     "text": [
      "Σ2=\n",
      " [[ 3.5        -9.5       ]\n",
      " [-9.5        26.16666667]]\n"
     ]
    }
   ],
   "source": [
    "x2=[pt[0] for pt in w2]\n",
    "y2=[pt[1] for pt in w2]\n",
    "u2=np.array([np.mean(x2),np.mean(y2)])\n",
    "Σ2=np.cov(np.stack((x2,y2),axis=0))\n",
    "print(\"Σ2=\\n\",Σ2)"
   ]
  },
  {
   "cell_type": "code",
   "execution_count": 5,
   "metadata": {},
   "outputs": [],
   "source": [
    "def get_g(X,u,Σ,Pw):\n",
    "    Σinv=np.linalg.inv(Σ)\n",
    "    X_minus_uT=X-u\n",
    "    X_minus_u=np.transpose(X_minus_uT)\n",
    "    return (-1/2)*np.dot(X_minus_uT,np.dot(Σinv,X_minus_u))+log(Pw)    #Σ1=Σ2"
   ]
  },
  {
   "cell_type": "code",
   "execution_count": 6,
   "metadata": {},
   "outputs": [
    {
     "name": "stdout",
     "output_type": "stream",
     "text": [
      "Discriminant Function 1: g1(x,y) = -0.5*(x - 3.5)*(19.6250000000002*x + 7.12500000000007*y - 10.5000000000001) - 0.5*(y + 8.16666666666667)*(7.12500000000007*x + 2.62500000000002*y - 3.50000000000004) - 1.20397280432594 \n",
      "\n",
      "Discriminant Function 2: g2(x,y) = -0.5*(x + 3.5)*(19.6250000000002*x + 7.12500000000007*y + 10.5000000000001) - 0.5*(y - 8.16666666666667)*(7.12500000000007*x + 2.62500000000002*y + 3.50000000000004) - 0.356674943938732 \n",
      "\n"
     ]
    }
   ],
   "source": [
    "gx1=get_g(X,u1,Σ1,Pw1)\n",
    "print(\"Discriminant Function 1: g1(x,y) =\",gx1,'\\n')\n",
    "gx2=get_g(X,u2,Σ2,Pw2)\n",
    "print(\"Discriminant Function 2: g2(x,y) =\",gx2,'\\n')"
   ]
  },
  {
   "cell_type": "code",
   "execution_count": 7,
   "metadata": {},
   "outputs": [
    {
     "name": "stdout",
     "output_type": "stream",
     "text": [
      "The Decision Boundary is : y = 0.121042551483882 - 2.99999999999991*x \n",
      "\n"
     ]
    },
    {
     "data": {
      "image/png": "[encoded data removed]",
      "text/plain": [
       "<Figure size 432x288 with 1 Axes>"
      ]
     },
     "metadata": {
      "needs_background": "light"
     },
     "output_type": "display_data"
    }
   ],
   "source": [
    "gx=solve(gx1-gx2,y,dict=True)\n",
    "print(\"The Decision Boundary is : y =\",gx[0][y],'\\n')\n",
    "xx=np.linspace(-10, 10, 1000)\n",
    "yy=[lambdify(x,gx[0][y])(val) for val in xx]\n",
    "plt.plot(xx,np.transpose(yy))\n",
    "plt.scatter(x1,y1,label=\"Class1\",color=\"green\",marker=\".\",s=30)\n",
    "plt.scatter(x2,y2,label=\"Class2\",color=\"red\",marker=\".\",s=30) \n",
    "plt.legend()\n",
    "plt.show()"
   ]
  }
 ],
 "metadata": {
  "interpreter": {
   "hash": "2be5faf79681da6f2a61fdfdd5405d65d042280f7fba6178067603e3a2925119"
  },
  "kernelspec": {
   "display_name": "Python 3.10.1 64-bit",
   "language": "python",
   "name": "python3"
  },
  "language_info": {
   "codemirror_mode": {
    "name": "ipython",
    "version": 3
   },
   "file_extension": ".py",
   "mimetype": "text/x-python",
   "name": "python",
   "nbconvert_exporter": "python",
   "pygments_lexer": "ipython3",
   "version": "3.10.1"
  },
  "orig_nbformat": 4
 },
 "nbformat": 4,
 "nbformat_minor": 2
}
