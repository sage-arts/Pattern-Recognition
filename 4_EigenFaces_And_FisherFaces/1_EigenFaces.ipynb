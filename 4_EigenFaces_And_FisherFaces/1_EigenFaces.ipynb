{
 "cells": [
  {
   "cell_type": "markdown",
   "metadata": {},
   "source": [
    "traindata: first 9 images of each class<br>\n",
    "testdata: last image of each class"
   ]
  },
  {
   "cell_type": "code",
   "execution_count": 19,
   "metadata": {},
   "outputs": [],
   "source": [
    "import numpy as np\n",
    "import cv2 \n",
    "import pandas as pd\n",
    "from sympy import *\n",
    "from cgi import test\n",
    "import math"
   ]
  },
  {
   "cell_type": "code",
   "execution_count": 20,
   "metadata": {},
   "outputs": [],
   "source": [
    "data=[]\n",
    "for i in range(1, 401):\n",
    "    if(i%10!=0):\n",
    "        location='face-ds/face-ds/'+str(i)+'_'+str(int(i/10)+1)+'.jpg'\n",
    "        verdict=str(int(i/10)+1)\n",
    "    else:\n",
    "        continue\n",
    "    img = cv2.imread(location)\n",
    "    img_gray=cv2.cvtColor(img,cv2.COLOR_BGR2GRAY)\n",
    "    hist=cv2.calcHist([img_gray],[0],None,[256],[0,256])\n",
    "    row=[]\n",
    "    for j in hist:\n",
    "        row.append(j[0])\n",
    "    row.append(verdict)\n",
    "    data.append(row)\n",
    "dataset=np.array(data)\n",
    "DF=pd.DataFrame(dataset)\n",
    "DF.to_csv(\"sample_points.csv\")"
   ]
  },
  {
   "cell_type": "code",
   "execution_count": 21,
   "metadata": {},
   "outputs": [],
   "source": [
    "data=[]\n",
    "for i in range(1, 401):\n",
    "    if(i%10==0):\n",
    "        location='face-ds/face-ds/'+str(i)+'_'+str(int(i/10))+'.jpg'\n",
    "        verdict=str(int(i/10))\n",
    "    else:\n",
    "        continue\n",
    "    img = cv2.imread(location)\n",
    "    img_gray=cv2.cvtColor(img,cv2.COLOR_BGR2GRAY)\n",
    "    hist=cv2.calcHist([img_gray],[0],None,[256],[0,256])\n",
    "    row=[]\n",
    "    for j in hist:\n",
    "        row.append(j[0])\n",
    "    row.append(verdict)\n",
    "    data.append(row)\n",
    "dataset=np.array(data)\n",
    "DF=pd.DataFrame(dataset)\n",
    "DF.to_csv(\"test_points.csv\")"
   ]
  },
  {
   "cell_type": "code",
   "execution_count": 22,
   "metadata": {},
   "outputs": [],
   "source": [
    "data=pd.read_csv(\"sample_points.csv\")\n",
    "data.drop(data.columns[[0,257]],axis=1,inplace=True)\n",
    "td=pd.read_csv(\"test_points.csv\")\n",
    "td.drop(td.columns[[0,257]],axis=1,inplace=True)\n",
    "traindata=data.to_numpy()\n",
    "testdata=td.to_numpy()"
   ]
  },
  {
   "cell_type": "code",
   "execution_count": 23,
   "metadata": {},
   "outputs": [],
   "source": [
    "mu=[]    \n",
    "for i in range(256):\n",
    "    m=0\n",
    "    for j in range(len(traindata)):\n",
    "        m=m+traindata[j][i]\n",
    "    m=m/360\n",
    "    mu.append(m)\n",
    "Z=[]\n",
    "for i in range(len(traindata)):\n",
    "    x=np.subtract(traindata[i],mu)\n",
    "    Z.append(x)\n",
    "Zt=np.transpose(Z)\n",
    "COV=np.dot(Zt,Z)\n",
    "COV=((1/360)*COV)"
   ]
  },
  {
   "cell_type": "code",
   "execution_count": 24,
   "metadata": {},
   "outputs": [],
   "source": [
    "e_,v_=np.linalg.eig(COV)\n",
    "e=e_ \n",
    "e_=-np.sort(-e_)\n",
    "d_dash=200\n",
    "colval=[]\n",
    "for j in range(d_dash):\n",
    "    p=np.where(e==e_[j])\n",
    "    colval1=traindata[:,p[0][0]]\n",
    "    colval.append(colval1)\n",
    "colval_test=[]\n",
    "for j in range(d_dash):\n",
    "    p=np.where(e==e_[j])\n",
    "    colval1=testdata[:,p[0][0]]\n",
    "    colval_test.append(colval1)\n",
    "values=np.array(colval)\n",
    "values=values.transpose()\n",
    "tval=np.array(colval_test)\n",
    "tval=tval.transpose()\n",
    "df=pd.DataFrame(values)\n",
    "df.to_csv(\"sample_points_pca.csv\")\n",
    "df=pd.DataFrame(tval)\n",
    "df.to_csv(\"test_points_pca.csv\")"
   ]
  },
  {
   "cell_type": "code",
   "execution_count": 25,
   "metadata": {},
   "outputs": [],
   "source": [
    "traindata=pd.read_csv(\"sample_points_pca.csv\")\n",
    "testdata=pd.read_csv(\"test_points_pca.csv\")\n",
    "traindata.drop(traindata.columns[[0]],axis=1,inplace=True)\n",
    "testdata.drop(testdata.columns[[0]],axis=1,inplace=True)\n",
    "traindata=traindata.to_numpy()\n",
    "testdata=testdata.to_numpy()"
   ]
  },
  {
   "cell_type": "code",
   "execution_count": 26,
   "metadata": {},
   "outputs": [],
   "source": [
    "means=[]\n",
    "x=0\n",
    "for i in range(40):\n",
    "    a=traindata[x]\n",
    "    x+=1\n",
    "    for j in range(8):\n",
    "        c=np.add(a,traindata[x])\n",
    "        x+=1\n",
    "        a=c\n",
    "    mean=c/9\n",
    "    means.append(mean)\n",
    "means=np.array(means)"
   ]
  },
  {
   "cell_type": "code",
   "execution_count": 27,
   "metadata": {},
   "outputs": [
    {
     "name": "stdout",
     "output_type": "stream",
     "text": [
      "Test face 1 is classified to class: 1\n",
      "Test face 2 is classified to class: 2\n",
      "Test face 3 is classified to class: 9\n",
      "Test face 4 is classified to class: 4\n",
      "Test face 5 is classified to class: 18\n",
      "Test face 6 is classified to class: 6\n",
      "Test face 7 is classified to class: 23\n",
      "Test face 8 is classified to class: 8\n",
      "Test face 9 is classified to class: 9\n",
      "Test face 10 is classified to class: 10\n",
      "Test face 11 is classified to class: 11\n",
      "Test face 12 is classified to class: 12\n",
      "Test face 13 is classified to class: 13\n",
      "Test face 14 is classified to class: 14\n",
      "Test face 15 is classified to class: 15\n",
      "Test face 16 is classified to class: 16\n",
      "Test face 17 is classified to class: 17\n",
      "Test face 18 is classified to class: 18\n",
      "Test face 19 is classified to class: 19\n",
      "Test face 20 is classified to class: 20\n",
      "Test face 21 is classified to class: 21\n",
      "Test face 22 is classified to class: 22\n",
      "Test face 23 is classified to class: 37\n",
      "Test face 24 is classified to class: 20\n",
      "Test face 25 is classified to class: 25\n",
      "Test face 26 is classified to class: 26\n",
      "Test face 27 is classified to class: 27\n",
      "Test face 28 is classified to class: 38\n",
      "Test face 29 is classified to class: 29\n",
      "Test face 30 is classified to class: 30\n",
      "Test face 31 is classified to class: 31\n",
      "Test face 32 is classified to class: 32\n",
      "Test face 33 is classified to class: 33\n",
      "Test face 34 is classified to class: 34\n",
      "Test face 35 is classified to class: 4\n",
      "Test face 36 is classified to class: 19\n",
      "Test face 37 is classified to class: 26\n",
      "Test face 38 is classified to class: 3\n",
      "Test face 39 is classified to class: 39\n",
      "Test face 40 is classified to class: 40\n",
      "Accuracy of classification: 75.0 %\n"
     ]
    }
   ],
   "source": [
    "j=0\n",
    "error=0\n",
    "for test in testdata:\n",
    "    j+=1\n",
    "    counter=1 \n",
    "    output_class=0\n",
    "    dis=10000\n",
    "    for ref in means:\n",
    "        diff=np.subtract(ref,test)\n",
    "        sum=0\n",
    "        for i in diff:\n",
    "            sum=sum+(i*i)\n",
    "        d=math.sqrt(sum)\n",
    "        if(d<dis):\n",
    "            dis=d\n",
    "            output_class=counter\n",
    "        counter+=1\n",
    "    if(output_class!=j):\n",
    "        error+=1    \n",
    "    print(\"Test face\",j,\"is classified to class:\",str(output_class))\n",
    "print(\"Accuracy of classification:\",(40-error)/40*100,\"%\")"
   ]
  }
 ],
 "metadata": {
  "interpreter": {
   "hash": "369f2c481f4da34e4445cda3fffd2e751bd1c4d706f27375911949ba6bb62e1c"
  },
  "kernelspec": {
   "display_name": "Python 3.10.1 64-bit",
   "language": "python",
   "name": "python3"
  },
  "language_info": {
   "codemirror_mode": {
    "name": "ipython",
    "version": 3
   },
   "file_extension": ".py",
   "mimetype": "text/x-python",
   "name": "python",
   "nbconvert_exporter": "python",
   "pygments_lexer": "ipython3",
   "version": "3.10.1"
  },
  "orig_nbformat": 4
 },
 "nbformat": 4,
 "nbformat_minor": 2
}
